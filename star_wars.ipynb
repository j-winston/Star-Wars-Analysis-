{
 "cells": [
  {
   "cell_type": "markdown",
   "id": "cc80477a-d3d2-487d-b2eb-e8212f4f820d",
   "metadata": {},
   "source": [
    "# America's Favorite Least and (Most) Favorite Star Wars Movies and Characters\n"
   ]
  },
  {
   "cell_type": "markdown",
   "id": "ec1585dd-4905-4dd1-996b-1cc3af36ce95",
   "metadata": {},
   "source": [
    "### Introduction"
   ]
  },
  {
   "cell_type": "markdown",
   "id": "6747a5ef-b746-4a53-b54a-9630b1fac22f",
   "metadata": {},
   "source": [
    "Fivethirtyeight.com ran poll from June 3 to June 6, surveying 1,186 respondants to get the answers to questions such as:\n",
    "\n",
    "- Which Star Wars characters are the most liked? Most Hated? \n",
    "- Which movies have people seen the most?\n",
    "- Are there any gender related differences? \n",
    "- Are Star Wars fans likely to fans of Star Trek?\n",
    "\n",
    "The original dataset can be found [here](https://github.com/fivethirtyeight/data/blob/master/star-wars-survey/StarWars.csv).\n",
    "\n",
    "Our goal was to find the highest reviewed films, the most and least favored characters, and also dive into some of the demographics behind Star Wars fans. \n"
   ]
  },
  {
   "cell_type": "markdown",
   "id": "2f244305-f7f1-4a99-a8a0-6a27522bff82",
   "metadata": {},
   "source": [
    "### Summary"
   ]
  },
  {
   "cell_type": "markdown",
   "id": "ff3eb903-697b-493f-9156-7630a7483e4c",
   "metadata": {},
   "source": [
    "Overall, we found that people most often preferred Episode V and Episode VI. While episode II and III were the lump of coal for fans across the US.\n",
    "\n",
    "Not so suprisingly we found that men were a little more likely(56 to 43 percent) to report as fans than women.  \n",
    "\n",
    "Han Solo and Yoda were the most loved characters, while Jar Jar and Darth Vader the least favored. \n",
    "\n",
    "An interesting peculiarity was that high earners($100k+) seemed to be at least twice as likely to declare themselves as Star Wars fans vs those who didn't quite bring home as much bacon. With those earning in excess of 150k were slightly over 2.5 times more likely to classify themselves as fans.\n"
   ]
  },
  {
   "cell_type": "markdown",
   "id": "554e91e6-be94-486b-9ba0-c833d7e83aff",
   "metadata": {},
   "source": [
    "#### Importing Our Dataset"
   ]
  },
  {
   "cell_type": "code",
   "execution_count": 1,
   "id": "eb1db78f-5974-4dba-9456-07178f1564ec",
   "metadata": {},
   "outputs": [],
   "source": [
    "import requests \n",
    "import matplotlib.pyplot as plt\n",
    "import numpy as np\n",
    "data = requests.get(\"https://github.com/fivethirtyeight/data/raw/master/star-wars-survey/StarWars.csv\")\n",
    "\n",
    "# open for writing\n",
    "with open('StarWars.csv',\"w+\",encoding='utf-8') as f:\n",
    "    f.write(data.text)\n"
   ]
  },
  {
   "cell_type": "code",
   "execution_count": 2,
   "id": "fb986cd7-d610-4bf2-b1f5-d356d7a89b9e",
   "metadata": {},
   "outputs": [],
   "source": [
    "import pandas as pd\n",
    "df = pd.read_csv('StarWars.csv',encoding=\"ISO-8859-1\")"
   ]
  },
  {
   "cell_type": "code",
   "execution_count": 3,
   "id": "74c08655-9b40-450b-8116-54cfcfd5e068",
   "metadata": {},
   "outputs": [
    {
     "data": {
      "text/html": [
       "<div>\n",
       "<style scoped>\n",
       "    .dataframe tbody tr th:only-of-type {\n",
       "        vertical-align: middle;\n",
       "    }\n",
       "\n",
       "    .dataframe tbody tr th {\n",
       "        vertical-align: top;\n",
       "    }\n",
       "\n",
       "    .dataframe thead th {\n",
       "        text-align: right;\n",
       "    }\n",
       "</style>\n",
       "<table border=\"1\" class=\"dataframe\">\n",
       "  <thead>\n",
       "    <tr style=\"text-align: right;\">\n",
       "      <th></th>\n",
       "      <th>RespondentID</th>\n",
       "      <th>Have you seen any of the 6 films in the Star Wars franchise?</th>\n",
       "      <th>Do you consider yourself to be a fan of the Star Wars film franchise?</th>\n",
       "      <th>Which of the following Star Wars films have you seen? Please select all that apply.</th>\n",
       "      <th>Unnamed: 4</th>\n",
       "      <th>Unnamed: 5</th>\n",
       "      <th>Unnamed: 6</th>\n",
       "      <th>Unnamed: 7</th>\n",
       "      <th>Unnamed: 8</th>\n",
       "      <th>Please rank the Star Wars films in order of preference with 1 being your favorite film in the franchise and 6 being your least favorite film.</th>\n",
       "      <th>...</th>\n",
       "      <th>Unnamed: 28</th>\n",
       "      <th>Which character shot first?</th>\n",
       "      <th>Are you familiar with the Expanded Universe?</th>\n",
       "      <th>Do you consider yourself to be a fan of the Expanded Universe?ï¿½ï¿½</th>\n",
       "      <th>Do you consider yourself to be a fan of the Star Trek franchise?</th>\n",
       "      <th>Gender</th>\n",
       "      <th>Age</th>\n",
       "      <th>Household Income</th>\n",
       "      <th>Education</th>\n",
       "      <th>Location (Census Region)</th>\n",
       "    </tr>\n",
       "  </thead>\n",
       "  <tbody>\n",
       "    <tr>\n",
       "      <th>0</th>\n",
       "      <td>NaN</td>\n",
       "      <td>Response</td>\n",
       "      <td>Response</td>\n",
       "      <td>Star Wars: Episode I  The Phantom Menace</td>\n",
       "      <td>Star Wars: Episode II  Attack of the Clones</td>\n",
       "      <td>Star Wars: Episode III  Revenge of the Sith</td>\n",
       "      <td>Star Wars: Episode IV  A New Hope</td>\n",
       "      <td>Star Wars: Episode V The Empire Strikes Back</td>\n",
       "      <td>Star Wars: Episode VI Return of the Jedi</td>\n",
       "      <td>Star Wars: Episode I  The Phantom Menace</td>\n",
       "      <td>...</td>\n",
       "      <td>Yoda</td>\n",
       "      <td>Response</td>\n",
       "      <td>Response</td>\n",
       "      <td>Response</td>\n",
       "      <td>Response</td>\n",
       "      <td>Response</td>\n",
       "      <td>Response</td>\n",
       "      <td>Response</td>\n",
       "      <td>Response</td>\n",
       "      <td>Response</td>\n",
       "    </tr>\n",
       "    <tr>\n",
       "      <th>1</th>\n",
       "      <td>3.292880e+09</td>\n",
       "      <td>Yes</td>\n",
       "      <td>Yes</td>\n",
       "      <td>Star Wars: Episode I  The Phantom Menace</td>\n",
       "      <td>Star Wars: Episode II  Attack of the Clones</td>\n",
       "      <td>Star Wars: Episode III  Revenge of the Sith</td>\n",
       "      <td>Star Wars: Episode IV  A New Hope</td>\n",
       "      <td>Star Wars: Episode V The Empire Strikes Back</td>\n",
       "      <td>Star Wars: Episode VI Return of the Jedi</td>\n",
       "      <td>3</td>\n",
       "      <td>...</td>\n",
       "      <td>Very favorably</td>\n",
       "      <td>I don't understand this question</td>\n",
       "      <td>Yes</td>\n",
       "      <td>No</td>\n",
       "      <td>No</td>\n",
       "      <td>Male</td>\n",
       "      <td>18-29</td>\n",
       "      <td>NaN</td>\n",
       "      <td>High school degree</td>\n",
       "      <td>South Atlantic</td>\n",
       "    </tr>\n",
       "    <tr>\n",
       "      <th>2</th>\n",
       "      <td>3.292880e+09</td>\n",
       "      <td>No</td>\n",
       "      <td>NaN</td>\n",
       "      <td>NaN</td>\n",
       "      <td>NaN</td>\n",
       "      <td>NaN</td>\n",
       "      <td>NaN</td>\n",
       "      <td>NaN</td>\n",
       "      <td>NaN</td>\n",
       "      <td>NaN</td>\n",
       "      <td>...</td>\n",
       "      <td>NaN</td>\n",
       "      <td>NaN</td>\n",
       "      <td>NaN</td>\n",
       "      <td>NaN</td>\n",
       "      <td>Yes</td>\n",
       "      <td>Male</td>\n",
       "      <td>18-29</td>\n",
       "      <td>$0 - $24,999</td>\n",
       "      <td>Bachelor degree</td>\n",
       "      <td>West South Central</td>\n",
       "    </tr>\n",
       "    <tr>\n",
       "      <th>3</th>\n",
       "      <td>3.292765e+09</td>\n",
       "      <td>Yes</td>\n",
       "      <td>No</td>\n",
       "      <td>Star Wars: Episode I  The Phantom Menace</td>\n",
       "      <td>Star Wars: Episode II  Attack of the Clones</td>\n",
       "      <td>Star Wars: Episode III  Revenge of the Sith</td>\n",
       "      <td>NaN</td>\n",
       "      <td>NaN</td>\n",
       "      <td>NaN</td>\n",
       "      <td>1</td>\n",
       "      <td>...</td>\n",
       "      <td>Unfamiliar (N/A)</td>\n",
       "      <td>I don't understand this question</td>\n",
       "      <td>No</td>\n",
       "      <td>NaN</td>\n",
       "      <td>No</td>\n",
       "      <td>Male</td>\n",
       "      <td>18-29</td>\n",
       "      <td>$0 - $24,999</td>\n",
       "      <td>High school degree</td>\n",
       "      <td>West North Central</td>\n",
       "    </tr>\n",
       "    <tr>\n",
       "      <th>4</th>\n",
       "      <td>3.292763e+09</td>\n",
       "      <td>Yes</td>\n",
       "      <td>Yes</td>\n",
       "      <td>Star Wars: Episode I  The Phantom Menace</td>\n",
       "      <td>Star Wars: Episode II  Attack of the Clones</td>\n",
       "      <td>Star Wars: Episode III  Revenge of the Sith</td>\n",
       "      <td>Star Wars: Episode IV  A New Hope</td>\n",
       "      <td>Star Wars: Episode V The Empire Strikes Back</td>\n",
       "      <td>Star Wars: Episode VI Return of the Jedi</td>\n",
       "      <td>5</td>\n",
       "      <td>...</td>\n",
       "      <td>Very favorably</td>\n",
       "      <td>I don't understand this question</td>\n",
       "      <td>No</td>\n",
       "      <td>NaN</td>\n",
       "      <td>Yes</td>\n",
       "      <td>Male</td>\n",
       "      <td>18-29</td>\n",
       "      <td>$100,000 - $149,999</td>\n",
       "      <td>Some college or Associate degree</td>\n",
       "      <td>West North Central</td>\n",
       "    </tr>\n",
       "  </tbody>\n",
       "</table>\n",
       "<p>5 rows × 38 columns</p>\n",
       "</div>"
      ],
      "text/plain": [
       "   RespondentID Have you seen any of the 6 films in the Star Wars franchise?  \\\n",
       "0           NaN                                           Response             \n",
       "1  3.292880e+09                                                Yes             \n",
       "2  3.292880e+09                                                 No             \n",
       "3  3.292765e+09                                                Yes             \n",
       "4  3.292763e+09                                                Yes             \n",
       "\n",
       "  Do you consider yourself to be a fan of the Star Wars film franchise?  \\\n",
       "0                                           Response                      \n",
       "1                                                Yes                      \n",
       "2                                                NaN                      \n",
       "3                                                 No                      \n",
       "4                                                Yes                      \n",
       "\n",
       "  Which of the following Star Wars films have you seen? Please select all that apply.  \\\n",
       "0           Star Wars: Episode I  The Phantom Menace                                    \n",
       "1           Star Wars: Episode I  The Phantom Menace                                    \n",
       "2                                                NaN                                    \n",
       "3           Star Wars: Episode I  The Phantom Menace                                    \n",
       "4           Star Wars: Episode I  The Phantom Menace                                    \n",
       "\n",
       "                                    Unnamed: 4  \\\n",
       "0  Star Wars: Episode II  Attack of the Clones   \n",
       "1  Star Wars: Episode II  Attack of the Clones   \n",
       "2                                          NaN   \n",
       "3  Star Wars: Episode II  Attack of the Clones   \n",
       "4  Star Wars: Episode II  Attack of the Clones   \n",
       "\n",
       "                                    Unnamed: 5  \\\n",
       "0  Star Wars: Episode III  Revenge of the Sith   \n",
       "1  Star Wars: Episode III  Revenge of the Sith   \n",
       "2                                          NaN   \n",
       "3  Star Wars: Episode III  Revenge of the Sith   \n",
       "4  Star Wars: Episode III  Revenge of the Sith   \n",
       "\n",
       "                          Unnamed: 6  \\\n",
       "0  Star Wars: Episode IV  A New Hope   \n",
       "1  Star Wars: Episode IV  A New Hope   \n",
       "2                                NaN   \n",
       "3                                NaN   \n",
       "4  Star Wars: Episode IV  A New Hope   \n",
       "\n",
       "                                     Unnamed: 7  \\\n",
       "0  Star Wars: Episode V The Empire Strikes Back   \n",
       "1  Star Wars: Episode V The Empire Strikes Back   \n",
       "2                                           NaN   \n",
       "3                                           NaN   \n",
       "4  Star Wars: Episode V The Empire Strikes Back   \n",
       "\n",
       "                                 Unnamed: 8  \\\n",
       "0  Star Wars: Episode VI Return of the Jedi   \n",
       "1  Star Wars: Episode VI Return of the Jedi   \n",
       "2                                       NaN   \n",
       "3                                       NaN   \n",
       "4  Star Wars: Episode VI Return of the Jedi   \n",
       "\n",
       "  Please rank the Star Wars films in order of preference with 1 being your favorite film in the franchise and 6 being your least favorite film.  \\\n",
       "0           Star Wars: Episode I  The Phantom Menace                                                                                              \n",
       "1                                                  3                                                                                              \n",
       "2                                                NaN                                                                                              \n",
       "3                                                  1                                                                                              \n",
       "4                                                  5                                                                                              \n",
       "\n",
       "   ...       Unnamed: 28       Which character shot first?  \\\n",
       "0  ...              Yoda                          Response   \n",
       "1  ...    Very favorably  I don't understand this question   \n",
       "2  ...               NaN                               NaN   \n",
       "3  ...  Unfamiliar (N/A)  I don't understand this question   \n",
       "4  ...    Very favorably  I don't understand this question   \n",
       "\n",
       "  Are you familiar with the Expanded Universe?  \\\n",
       "0                                     Response   \n",
       "1                                          Yes   \n",
       "2                                          NaN   \n",
       "3                                           No   \n",
       "4                                           No   \n",
       "\n",
       "  Do you consider yourself to be a fan of the Expanded Universe?ï¿½ï¿½  \\\n",
       "0                                           Response                     \n",
       "1                                                 No                     \n",
       "2                                                NaN                     \n",
       "3                                                NaN                     \n",
       "4                                                NaN                     \n",
       "\n",
       "  Do you consider yourself to be a fan of the Star Trek franchise?    Gender  \\\n",
       "0                                           Response                Response   \n",
       "1                                                 No                    Male   \n",
       "2                                                Yes                    Male   \n",
       "3                                                 No                    Male   \n",
       "4                                                Yes                    Male   \n",
       "\n",
       "        Age     Household Income                         Education  \\\n",
       "0  Response             Response                          Response   \n",
       "1     18-29                  NaN                High school degree   \n",
       "2     18-29         $0 - $24,999                   Bachelor degree   \n",
       "3     18-29         $0 - $24,999                High school degree   \n",
       "4     18-29  $100,000 - $149,999  Some college or Associate degree   \n",
       "\n",
       "  Location (Census Region)  \n",
       "0                 Response  \n",
       "1           South Atlantic  \n",
       "2       West South Central  \n",
       "3       West North Central  \n",
       "4       West North Central  \n",
       "\n",
       "[5 rows x 38 columns]"
      ]
     },
     "execution_count": 3,
     "metadata": {},
     "output_type": "execute_result"
    }
   ],
   "source": [
    "df.head()"
   ]
  },
  {
   "cell_type": "markdown",
   "id": "34542ddf-5656-4165-9458-cb6d1ca701eb",
   "metadata": {},
   "source": [
    "### First Impressions and Strategy\n",
    "\n",
    "Due to the format of some of the questions, we will need to do some extensive cleaning! We've got several columns with no headers, exceedingly long column titles, and string formatted income columns.\n",
    "\n",
    "We'll begin with cleaning our data, then explore the favorite (and least favorite) films and characters, and finally we'll dive into demographics and get into some of the demographics and quirks of our Star Wars audience. "
   ]
  },
  {
   "cell_type": "code",
   "execution_count": 4,
   "id": "5e28099c-03a2-493d-8e74-589428f45766",
   "metadata": {},
   "outputs": [],
   "source": [
    "# header row holds nothing useful, let's remove it\n",
    "df = df.iloc[1:] "
   ]
  },
  {
   "cell_type": "code",
   "execution_count": 5,
   "id": "2bd26ad0-f712-4961-9f4e-4da6f97643d3",
   "metadata": {},
   "outputs": [
    {
     "data": {
      "text/html": [
       "<div>\n",
       "<style scoped>\n",
       "    .dataframe tbody tr th:only-of-type {\n",
       "        vertical-align: middle;\n",
       "    }\n",
       "\n",
       "    .dataframe tbody tr th {\n",
       "        vertical-align: top;\n",
       "    }\n",
       "\n",
       "    .dataframe thead th {\n",
       "        text-align: right;\n",
       "    }\n",
       "</style>\n",
       "<table border=\"1\" class=\"dataframe\">\n",
       "  <thead>\n",
       "    <tr style=\"text-align: right;\">\n",
       "      <th></th>\n",
       "      <th>RespondentID</th>\n",
       "      <th>Have you seen any of the 6 films in the Star Wars franchise?</th>\n",
       "      <th>Do you consider yourself to be a fan of the Star Wars film franchise?</th>\n",
       "      <th>Which of the following Star Wars films have you seen? Please select all that apply.</th>\n",
       "      <th>Unnamed: 4</th>\n",
       "      <th>Unnamed: 5</th>\n",
       "      <th>Unnamed: 6</th>\n",
       "      <th>Unnamed: 7</th>\n",
       "      <th>Unnamed: 8</th>\n",
       "      <th>Please rank the Star Wars films in order of preference with 1 being your favorite film in the franchise and 6 being your least favorite film.</th>\n",
       "      <th>...</th>\n",
       "      <th>Unnamed: 28</th>\n",
       "      <th>Which character shot first?</th>\n",
       "      <th>Are you familiar with the Expanded Universe?</th>\n",
       "      <th>Do you consider yourself to be a fan of the Expanded Universe?ï¿½ï¿½</th>\n",
       "      <th>Do you consider yourself to be a fan of the Star Trek franchise?</th>\n",
       "      <th>Gender</th>\n",
       "      <th>Age</th>\n",
       "      <th>Household Income</th>\n",
       "      <th>Education</th>\n",
       "      <th>Location (Census Region)</th>\n",
       "    </tr>\n",
       "  </thead>\n",
       "  <tbody>\n",
       "    <tr>\n",
       "      <th>1</th>\n",
       "      <td>3.292880e+09</td>\n",
       "      <td>Yes</td>\n",
       "      <td>Yes</td>\n",
       "      <td>Star Wars: Episode I  The Phantom Menace</td>\n",
       "      <td>Star Wars: Episode II  Attack of the Clones</td>\n",
       "      <td>Star Wars: Episode III  Revenge of the Sith</td>\n",
       "      <td>Star Wars: Episode IV  A New Hope</td>\n",
       "      <td>Star Wars: Episode V The Empire Strikes Back</td>\n",
       "      <td>Star Wars: Episode VI Return of the Jedi</td>\n",
       "      <td>3</td>\n",
       "      <td>...</td>\n",
       "      <td>Very favorably</td>\n",
       "      <td>I don't understand this question</td>\n",
       "      <td>Yes</td>\n",
       "      <td>No</td>\n",
       "      <td>No</td>\n",
       "      <td>Male</td>\n",
       "      <td>18-29</td>\n",
       "      <td>NaN</td>\n",
       "      <td>High school degree</td>\n",
       "      <td>South Atlantic</td>\n",
       "    </tr>\n",
       "    <tr>\n",
       "      <th>2</th>\n",
       "      <td>3.292880e+09</td>\n",
       "      <td>No</td>\n",
       "      <td>NaN</td>\n",
       "      <td>NaN</td>\n",
       "      <td>NaN</td>\n",
       "      <td>NaN</td>\n",
       "      <td>NaN</td>\n",
       "      <td>NaN</td>\n",
       "      <td>NaN</td>\n",
       "      <td>NaN</td>\n",
       "      <td>...</td>\n",
       "      <td>NaN</td>\n",
       "      <td>NaN</td>\n",
       "      <td>NaN</td>\n",
       "      <td>NaN</td>\n",
       "      <td>Yes</td>\n",
       "      <td>Male</td>\n",
       "      <td>18-29</td>\n",
       "      <td>$0 - $24,999</td>\n",
       "      <td>Bachelor degree</td>\n",
       "      <td>West South Central</td>\n",
       "    </tr>\n",
       "    <tr>\n",
       "      <th>3</th>\n",
       "      <td>3.292765e+09</td>\n",
       "      <td>Yes</td>\n",
       "      <td>No</td>\n",
       "      <td>Star Wars: Episode I  The Phantom Menace</td>\n",
       "      <td>Star Wars: Episode II  Attack of the Clones</td>\n",
       "      <td>Star Wars: Episode III  Revenge of the Sith</td>\n",
       "      <td>NaN</td>\n",
       "      <td>NaN</td>\n",
       "      <td>NaN</td>\n",
       "      <td>1</td>\n",
       "      <td>...</td>\n",
       "      <td>Unfamiliar (N/A)</td>\n",
       "      <td>I don't understand this question</td>\n",
       "      <td>No</td>\n",
       "      <td>NaN</td>\n",
       "      <td>No</td>\n",
       "      <td>Male</td>\n",
       "      <td>18-29</td>\n",
       "      <td>$0 - $24,999</td>\n",
       "      <td>High school degree</td>\n",
       "      <td>West North Central</td>\n",
       "    </tr>\n",
       "    <tr>\n",
       "      <th>4</th>\n",
       "      <td>3.292763e+09</td>\n",
       "      <td>Yes</td>\n",
       "      <td>Yes</td>\n",
       "      <td>Star Wars: Episode I  The Phantom Menace</td>\n",
       "      <td>Star Wars: Episode II  Attack of the Clones</td>\n",
       "      <td>Star Wars: Episode III  Revenge of the Sith</td>\n",
       "      <td>Star Wars: Episode IV  A New Hope</td>\n",
       "      <td>Star Wars: Episode V The Empire Strikes Back</td>\n",
       "      <td>Star Wars: Episode VI Return of the Jedi</td>\n",
       "      <td>5</td>\n",
       "      <td>...</td>\n",
       "      <td>Very favorably</td>\n",
       "      <td>I don't understand this question</td>\n",
       "      <td>No</td>\n",
       "      <td>NaN</td>\n",
       "      <td>Yes</td>\n",
       "      <td>Male</td>\n",
       "      <td>18-29</td>\n",
       "      <td>$100,000 - $149,999</td>\n",
       "      <td>Some college or Associate degree</td>\n",
       "      <td>West North Central</td>\n",
       "    </tr>\n",
       "    <tr>\n",
       "      <th>5</th>\n",
       "      <td>3.292731e+09</td>\n",
       "      <td>Yes</td>\n",
       "      <td>Yes</td>\n",
       "      <td>Star Wars: Episode I  The Phantom Menace</td>\n",
       "      <td>Star Wars: Episode II  Attack of the Clones</td>\n",
       "      <td>Star Wars: Episode III  Revenge of the Sith</td>\n",
       "      <td>Star Wars: Episode IV  A New Hope</td>\n",
       "      <td>Star Wars: Episode V The Empire Strikes Back</td>\n",
       "      <td>Star Wars: Episode VI Return of the Jedi</td>\n",
       "      <td>5</td>\n",
       "      <td>...</td>\n",
       "      <td>Somewhat favorably</td>\n",
       "      <td>Greedo</td>\n",
       "      <td>Yes</td>\n",
       "      <td>No</td>\n",
       "      <td>No</td>\n",
       "      <td>Male</td>\n",
       "      <td>18-29</td>\n",
       "      <td>$100,000 - $149,999</td>\n",
       "      <td>Some college or Associate degree</td>\n",
       "      <td>West North Central</td>\n",
       "    </tr>\n",
       "  </tbody>\n",
       "</table>\n",
       "<p>5 rows × 38 columns</p>\n",
       "</div>"
      ],
      "text/plain": [
       "   RespondentID Have you seen any of the 6 films in the Star Wars franchise?  \\\n",
       "1  3.292880e+09                                                Yes             \n",
       "2  3.292880e+09                                                 No             \n",
       "3  3.292765e+09                                                Yes             \n",
       "4  3.292763e+09                                                Yes             \n",
       "5  3.292731e+09                                                Yes             \n",
       "\n",
       "  Do you consider yourself to be a fan of the Star Wars film franchise?  \\\n",
       "1                                                Yes                      \n",
       "2                                                NaN                      \n",
       "3                                                 No                      \n",
       "4                                                Yes                      \n",
       "5                                                Yes                      \n",
       "\n",
       "  Which of the following Star Wars films have you seen? Please select all that apply.  \\\n",
       "1           Star Wars: Episode I  The Phantom Menace                                    \n",
       "2                                                NaN                                    \n",
       "3           Star Wars: Episode I  The Phantom Menace                                    \n",
       "4           Star Wars: Episode I  The Phantom Menace                                    \n",
       "5           Star Wars: Episode I  The Phantom Menace                                    \n",
       "\n",
       "                                    Unnamed: 4  \\\n",
       "1  Star Wars: Episode II  Attack of the Clones   \n",
       "2                                          NaN   \n",
       "3  Star Wars: Episode II  Attack of the Clones   \n",
       "4  Star Wars: Episode II  Attack of the Clones   \n",
       "5  Star Wars: Episode II  Attack of the Clones   \n",
       "\n",
       "                                    Unnamed: 5  \\\n",
       "1  Star Wars: Episode III  Revenge of the Sith   \n",
       "2                                          NaN   \n",
       "3  Star Wars: Episode III  Revenge of the Sith   \n",
       "4  Star Wars: Episode III  Revenge of the Sith   \n",
       "5  Star Wars: Episode III  Revenge of the Sith   \n",
       "\n",
       "                          Unnamed: 6  \\\n",
       "1  Star Wars: Episode IV  A New Hope   \n",
       "2                                NaN   \n",
       "3                                NaN   \n",
       "4  Star Wars: Episode IV  A New Hope   \n",
       "5  Star Wars: Episode IV  A New Hope   \n",
       "\n",
       "                                     Unnamed: 7  \\\n",
       "1  Star Wars: Episode V The Empire Strikes Back   \n",
       "2                                           NaN   \n",
       "3                                           NaN   \n",
       "4  Star Wars: Episode V The Empire Strikes Back   \n",
       "5  Star Wars: Episode V The Empire Strikes Back   \n",
       "\n",
       "                                 Unnamed: 8  \\\n",
       "1  Star Wars: Episode VI Return of the Jedi   \n",
       "2                                       NaN   \n",
       "3                                       NaN   \n",
       "4  Star Wars: Episode VI Return of the Jedi   \n",
       "5  Star Wars: Episode VI Return of the Jedi   \n",
       "\n",
       "  Please rank the Star Wars films in order of preference with 1 being your favorite film in the franchise and 6 being your least favorite film.  \\\n",
       "1                                                  3                                                                                              \n",
       "2                                                NaN                                                                                              \n",
       "3                                                  1                                                                                              \n",
       "4                                                  5                                                                                              \n",
       "5                                                  5                                                                                              \n",
       "\n",
       "   ...         Unnamed: 28       Which character shot first?  \\\n",
       "1  ...      Very favorably  I don't understand this question   \n",
       "2  ...                 NaN                               NaN   \n",
       "3  ...    Unfamiliar (N/A)  I don't understand this question   \n",
       "4  ...      Very favorably  I don't understand this question   \n",
       "5  ...  Somewhat favorably                            Greedo   \n",
       "\n",
       "  Are you familiar with the Expanded Universe?  \\\n",
       "1                                          Yes   \n",
       "2                                          NaN   \n",
       "3                                           No   \n",
       "4                                           No   \n",
       "5                                          Yes   \n",
       "\n",
       "  Do you consider yourself to be a fan of the Expanded Universe?ï¿½ï¿½  \\\n",
       "1                                                 No                     \n",
       "2                                                NaN                     \n",
       "3                                                NaN                     \n",
       "4                                                NaN                     \n",
       "5                                                 No                     \n",
       "\n",
       "  Do you consider yourself to be a fan of the Star Trek franchise? Gender  \\\n",
       "1                                                 No                 Male   \n",
       "2                                                Yes                 Male   \n",
       "3                                                 No                 Male   \n",
       "4                                                Yes                 Male   \n",
       "5                                                 No                 Male   \n",
       "\n",
       "     Age     Household Income                         Education  \\\n",
       "1  18-29                  NaN                High school degree   \n",
       "2  18-29         $0 - $24,999                   Bachelor degree   \n",
       "3  18-29         $0 - $24,999                High school degree   \n",
       "4  18-29  $100,000 - $149,999  Some college or Associate degree   \n",
       "5  18-29  $100,000 - $149,999  Some college or Associate degree   \n",
       "\n",
       "  Location (Census Region)  \n",
       "1           South Atlantic  \n",
       "2       West South Central  \n",
       "3       West North Central  \n",
       "4       West North Central  \n",
       "5       West North Central  \n",
       "\n",
       "[5 rows x 38 columns]"
      ]
     },
     "execution_count": 5,
     "metadata": {},
     "output_type": "execute_result"
    }
   ],
   "source": [
    "df.head()"
   ]
  },
  {
   "cell_type": "code",
   "execution_count": 6,
   "id": "c7ae8fd0-0ede-4b71-bcc2-21be32b50461",
   "metadata": {},
   "outputs": [
    {
     "data": {
      "text/plain": [
       "Index(['RespondentID',\n",
       "       'Have you seen any of the 6 films in the Star Wars franchise?',\n",
       "       'Do you consider yourself to be a fan of the Star Wars film franchise?',\n",
       "       'Which of the following Star Wars films have you seen? Please select all that apply.',\n",
       "       'Unnamed: 4', 'Unnamed: 5', 'Unnamed: 6', 'Unnamed: 7', 'Unnamed: 8',\n",
       "       'Please rank the Star Wars films in order of preference with 1 being your favorite film in the franchise and 6 being your least favorite film.',\n",
       "       'Unnamed: 10', 'Unnamed: 11', 'Unnamed: 12', 'Unnamed: 13',\n",
       "       'Unnamed: 14',\n",
       "       'Please state whether you view the following characters favorably, unfavorably, or are unfamiliar with him/her.',\n",
       "       'Unnamed: 16', 'Unnamed: 17', 'Unnamed: 18', 'Unnamed: 19',\n",
       "       'Unnamed: 20', 'Unnamed: 21', 'Unnamed: 22', 'Unnamed: 23',\n",
       "       'Unnamed: 24', 'Unnamed: 25', 'Unnamed: 26', 'Unnamed: 27',\n",
       "       'Unnamed: 28', 'Which character shot first?',\n",
       "       'Are you familiar with the Expanded Universe?',\n",
       "       'Do you consider yourself to be a fan of the Expanded Universe?ï¿½ï¿½',\n",
       "       'Do you consider yourself to be a fan of the Star Trek franchise?',\n",
       "       'Gender', 'Age', 'Household Income', 'Education',\n",
       "       'Location (Census Region)'],\n",
       "      dtype='object')"
      ]
     },
     "execution_count": 6,
     "metadata": {},
     "output_type": "execute_result"
    }
   ],
   "source": [
    "df.columns"
   ]
  },
  {
   "cell_type": "markdown",
   "id": "6a09b147-5308-4914-86f6-fb8f18fd9d06",
   "metadata": {},
   "source": [
    "These column names are exceedingly long. We will shorten them as part of our strategy. "
   ]
  },
  {
   "cell_type": "markdown",
   "id": "429608d9-2d7b-4832-83e9-8dae7777d337",
   "metadata": {},
   "source": [
    "### Cleaning our Dataset  \n",
    "We will split off multiple columns at a time and assign them to `cleaned_df`. This allows us to work efficiently, peeling off and focusing on chunks of data at a time. We will repeat this process for the remainder of our dataset, extracting only relevant/useful data."
   ]
  },
  {
   "cell_type": "code",
   "execution_count": 7,
   "id": "b8c222f1-bf0f-4af6-a441-819d39d655d7",
   "metadata": {},
   "outputs": [],
   "source": [
    "# our first two columns\n",
    "cleaned_df = df[['RespondentID',\n",
    "                 'Have you seen any of the 6 films in the Star Wars franchise?',\n",
    "                 'Do you consider yourself to be a fan of the Star Wars film franchise?',\n",
    "                ]].copy()\n"
   ]
  },
  {
   "cell_type": "code",
   "execution_count": 8,
   "id": "5c152099-2fc9-4218-889c-b58176c0a911",
   "metadata": {},
   "outputs": [
    {
     "data": {
      "text/html": [
       "<div>\n",
       "<style scoped>\n",
       "    .dataframe tbody tr th:only-of-type {\n",
       "        vertical-align: middle;\n",
       "    }\n",
       "\n",
       "    .dataframe tbody tr th {\n",
       "        vertical-align: top;\n",
       "    }\n",
       "\n",
       "    .dataframe thead th {\n",
       "        text-align: right;\n",
       "    }\n",
       "</style>\n",
       "<table border=\"1\" class=\"dataframe\">\n",
       "  <thead>\n",
       "    <tr style=\"text-align: right;\">\n",
       "      <th></th>\n",
       "      <th>RespondentID</th>\n",
       "      <th>Have you seen any of the 6 films in the Star Wars franchise?</th>\n",
       "      <th>Do you consider yourself to be a fan of the Star Wars film franchise?</th>\n",
       "    </tr>\n",
       "  </thead>\n",
       "  <tbody>\n",
       "    <tr>\n",
       "      <th>1</th>\n",
       "      <td>3.292880e+09</td>\n",
       "      <td>Yes</td>\n",
       "      <td>Yes</td>\n",
       "    </tr>\n",
       "    <tr>\n",
       "      <th>2</th>\n",
       "      <td>3.292880e+09</td>\n",
       "      <td>No</td>\n",
       "      <td>NaN</td>\n",
       "    </tr>\n",
       "    <tr>\n",
       "      <th>3</th>\n",
       "      <td>3.292765e+09</td>\n",
       "      <td>Yes</td>\n",
       "      <td>No</td>\n",
       "    </tr>\n",
       "    <tr>\n",
       "      <th>4</th>\n",
       "      <td>3.292763e+09</td>\n",
       "      <td>Yes</td>\n",
       "      <td>Yes</td>\n",
       "    </tr>\n",
       "    <tr>\n",
       "      <th>5</th>\n",
       "      <td>3.292731e+09</td>\n",
       "      <td>Yes</td>\n",
       "      <td>Yes</td>\n",
       "    </tr>\n",
       "  </tbody>\n",
       "</table>\n",
       "</div>"
      ],
      "text/plain": [
       "   RespondentID Have you seen any of the 6 films in the Star Wars franchise?  \\\n",
       "1  3.292880e+09                                                Yes             \n",
       "2  3.292880e+09                                                 No             \n",
       "3  3.292765e+09                                                Yes             \n",
       "4  3.292763e+09                                                Yes             \n",
       "5  3.292731e+09                                                Yes             \n",
       "\n",
       "  Do you consider yourself to be a fan of the Star Wars film franchise?  \n",
       "1                                                Yes                     \n",
       "2                                                NaN                     \n",
       "3                                                 No                     \n",
       "4                                                Yes                     \n",
       "5                                                Yes                     "
      ]
     },
     "execution_count": 8,
     "metadata": {},
     "output_type": "execute_result"
    }
   ],
   "source": [
    "cleaned_df.head()"
   ]
  },
  {
   "cell_type": "markdown",
   "id": "d9199b07-6d5d-4ee5-a8ec-3873eb69ca8b",
   "metadata": {},
   "source": [
    "Our `Have you seen any of the 6 films in the Star Wars franchise?` columns contains Yes and No stored as string data types. We need to convert these to bool in order to work with them more effectively. "
   ]
  },
  {
   "cell_type": "code",
   "execution_count": 9,
   "id": "82c87b4c-54fb-4b93-a8cc-1ca756e5e48a",
   "metadata": {},
   "outputs": [],
   "source": [
    "bool_dict = {\n",
    "    'Yes': True, \n",
    "    'No':False\n",
    "}"
   ]
  },
  {
   "cell_type": "code",
   "execution_count": 10,
   "id": "014aa7cc-0c26-4b63-93db-34cc81ecd040",
   "metadata": {},
   "outputs": [],
   "source": [
    "# remap all Yes and No to bool values \n",
    "cleaned_df['Have you seen any of the 6 films in the Star Wars franchise?'] = cleaned_df['Have you seen any of the 6 films in the Star Wars franchise?'].map(bool_dict)"
   ]
  },
  {
   "cell_type": "code",
   "execution_count": 11,
   "id": "8b056e93-1fc5-4e6a-b60b-6d3aff70bd3f",
   "metadata": {},
   "outputs": [
    {
     "data": {
      "text/plain": [
       "dtype('bool')"
      ]
     },
     "execution_count": 11,
     "metadata": {},
     "output_type": "execute_result"
    }
   ],
   "source": [
    "# double check our work \n",
    "cleaned_df['Have you seen any of the 6 films in the Star Wars franchise?'].dtypes"
   ]
  },
  {
   "cell_type": "code",
   "execution_count": 12,
   "id": "6fcde94a-fcff-4c39-8995-1261915c5720",
   "metadata": {},
   "outputs": [
    {
     "data": {
      "text/plain": [
       "Yes    552\n",
       "No     284\n",
       "Name: Do you consider yourself to be a fan of the Star Wars film franchise?, dtype: int64"
      ]
     },
     "execution_count": 12,
     "metadata": {},
     "output_type": "execute_result"
    }
   ],
   "source": [
    "cleaned_df['Do you consider yourself to be a fan of the Star Wars film franchise?'].value_counts()"
   ]
  },
  {
   "cell_type": "markdown",
   "id": "ced90c6a-8d8c-4403-8d93-4fa232543c2c",
   "metadata": {},
   "source": [
    "Interesting to note that 284 people do not consider themselves to be a fan of the franchise. At some point going forward we will be focusing solely on fans."
   ]
  },
  {
   "cell_type": "markdown",
   "id": "f13937da-2043-4ccd-aedf-23f9f39803fb",
   "metadata": {},
   "source": [
    "#### Column Renaming "
   ]
  },
  {
   "cell_type": "markdown",
   "id": "fb7d2bb1-4414-4a26-a70b-75d8dfe449eb",
   "metadata": {},
   "source": [
    "A peculiarity about our dataset is that responses were recorded over several columns. For example, the column `Which of the following Star Wars films have you seen? Please select all that apply.` assigns their reponses to the next five columns (`Unnamed: 4` for example) . We will have to rename all of these columns for clarity."
   ]
  },
  {
   "cell_type": "code",
   "execution_count": 13,
   "id": "2ebbe08d-965b-48ce-943d-1bde0e9c1d40",
   "metadata": {},
   "outputs": [],
   "source": [
    "# merge in `which films have you seen` column and unnamed columns \n",
    "cleaned_df = cleaned_df.merge(df.iloc[:,3:9].copy(), left_index=True, right_index=True)"
   ]
  },
  {
   "cell_type": "code",
   "execution_count": 14,
   "id": "edc0d6c8-d81e-4cde-9f56-60f8c322dafd",
   "metadata": {},
   "outputs": [
    {
     "data": {
      "text/html": [
       "<div>\n",
       "<style scoped>\n",
       "    .dataframe tbody tr th:only-of-type {\n",
       "        vertical-align: middle;\n",
       "    }\n",
       "\n",
       "    .dataframe tbody tr th {\n",
       "        vertical-align: top;\n",
       "    }\n",
       "\n",
       "    .dataframe thead th {\n",
       "        text-align: right;\n",
       "    }\n",
       "</style>\n",
       "<table border=\"1\" class=\"dataframe\">\n",
       "  <thead>\n",
       "    <tr style=\"text-align: right;\">\n",
       "      <th></th>\n",
       "      <th>RespondentID</th>\n",
       "      <th>Have you seen any of the 6 films in the Star Wars franchise?</th>\n",
       "      <th>Do you consider yourself to be a fan of the Star Wars film franchise?</th>\n",
       "      <th>Which of the following Star Wars films have you seen? Please select all that apply.</th>\n",
       "      <th>Unnamed: 4</th>\n",
       "      <th>Unnamed: 5</th>\n",
       "      <th>Unnamed: 6</th>\n",
       "      <th>Unnamed: 7</th>\n",
       "      <th>Unnamed: 8</th>\n",
       "    </tr>\n",
       "  </thead>\n",
       "  <tbody>\n",
       "    <tr>\n",
       "      <th>1</th>\n",
       "      <td>3.292880e+09</td>\n",
       "      <td>True</td>\n",
       "      <td>Yes</td>\n",
       "      <td>Star Wars: Episode I  The Phantom Menace</td>\n",
       "      <td>Star Wars: Episode II  Attack of the Clones</td>\n",
       "      <td>Star Wars: Episode III  Revenge of the Sith</td>\n",
       "      <td>Star Wars: Episode IV  A New Hope</td>\n",
       "      <td>Star Wars: Episode V The Empire Strikes Back</td>\n",
       "      <td>Star Wars: Episode VI Return of the Jedi</td>\n",
       "    </tr>\n",
       "    <tr>\n",
       "      <th>2</th>\n",
       "      <td>3.292880e+09</td>\n",
       "      <td>False</td>\n",
       "      <td>NaN</td>\n",
       "      <td>NaN</td>\n",
       "      <td>NaN</td>\n",
       "      <td>NaN</td>\n",
       "      <td>NaN</td>\n",
       "      <td>NaN</td>\n",
       "      <td>NaN</td>\n",
       "    </tr>\n",
       "    <tr>\n",
       "      <th>3</th>\n",
       "      <td>3.292765e+09</td>\n",
       "      <td>True</td>\n",
       "      <td>No</td>\n",
       "      <td>Star Wars: Episode I  The Phantom Menace</td>\n",
       "      <td>Star Wars: Episode II  Attack of the Clones</td>\n",
       "      <td>Star Wars: Episode III  Revenge of the Sith</td>\n",
       "      <td>NaN</td>\n",
       "      <td>NaN</td>\n",
       "      <td>NaN</td>\n",
       "    </tr>\n",
       "    <tr>\n",
       "      <th>4</th>\n",
       "      <td>3.292763e+09</td>\n",
       "      <td>True</td>\n",
       "      <td>Yes</td>\n",
       "      <td>Star Wars: Episode I  The Phantom Menace</td>\n",
       "      <td>Star Wars: Episode II  Attack of the Clones</td>\n",
       "      <td>Star Wars: Episode III  Revenge of the Sith</td>\n",
       "      <td>Star Wars: Episode IV  A New Hope</td>\n",
       "      <td>Star Wars: Episode V The Empire Strikes Back</td>\n",
       "      <td>Star Wars: Episode VI Return of the Jedi</td>\n",
       "    </tr>\n",
       "    <tr>\n",
       "      <th>5</th>\n",
       "      <td>3.292731e+09</td>\n",
       "      <td>True</td>\n",
       "      <td>Yes</td>\n",
       "      <td>Star Wars: Episode I  The Phantom Menace</td>\n",
       "      <td>Star Wars: Episode II  Attack of the Clones</td>\n",
       "      <td>Star Wars: Episode III  Revenge of the Sith</td>\n",
       "      <td>Star Wars: Episode IV  A New Hope</td>\n",
       "      <td>Star Wars: Episode V The Empire Strikes Back</td>\n",
       "      <td>Star Wars: Episode VI Return of the Jedi</td>\n",
       "    </tr>\n",
       "  </tbody>\n",
       "</table>\n",
       "</div>"
      ],
      "text/plain": [
       "   RespondentID  Have you seen any of the 6 films in the Star Wars franchise?  \\\n",
       "1  3.292880e+09                                               True              \n",
       "2  3.292880e+09                                              False              \n",
       "3  3.292765e+09                                               True              \n",
       "4  3.292763e+09                                               True              \n",
       "5  3.292731e+09                                               True              \n",
       "\n",
       "  Do you consider yourself to be a fan of the Star Wars film franchise?  \\\n",
       "1                                                Yes                      \n",
       "2                                                NaN                      \n",
       "3                                                 No                      \n",
       "4                                                Yes                      \n",
       "5                                                Yes                      \n",
       "\n",
       "  Which of the following Star Wars films have you seen? Please select all that apply.  \\\n",
       "1           Star Wars: Episode I  The Phantom Menace                                    \n",
       "2                                                NaN                                    \n",
       "3           Star Wars: Episode I  The Phantom Menace                                    \n",
       "4           Star Wars: Episode I  The Phantom Menace                                    \n",
       "5           Star Wars: Episode I  The Phantom Menace                                    \n",
       "\n",
       "                                    Unnamed: 4  \\\n",
       "1  Star Wars: Episode II  Attack of the Clones   \n",
       "2                                          NaN   \n",
       "3  Star Wars: Episode II  Attack of the Clones   \n",
       "4  Star Wars: Episode II  Attack of the Clones   \n",
       "5  Star Wars: Episode II  Attack of the Clones   \n",
       "\n",
       "                                    Unnamed: 5  \\\n",
       "1  Star Wars: Episode III  Revenge of the Sith   \n",
       "2                                          NaN   \n",
       "3  Star Wars: Episode III  Revenge of the Sith   \n",
       "4  Star Wars: Episode III  Revenge of the Sith   \n",
       "5  Star Wars: Episode III  Revenge of the Sith   \n",
       "\n",
       "                          Unnamed: 6  \\\n",
       "1  Star Wars: Episode IV  A New Hope   \n",
       "2                                NaN   \n",
       "3                                NaN   \n",
       "4  Star Wars: Episode IV  A New Hope   \n",
       "5  Star Wars: Episode IV  A New Hope   \n",
       "\n",
       "                                     Unnamed: 7  \\\n",
       "1  Star Wars: Episode V The Empire Strikes Back   \n",
       "2                                           NaN   \n",
       "3                                           NaN   \n",
       "4  Star Wars: Episode V The Empire Strikes Back   \n",
       "5  Star Wars: Episode V The Empire Strikes Back   \n",
       "\n",
       "                                 Unnamed: 8  \n",
       "1  Star Wars: Episode VI Return of the Jedi  \n",
       "2                                       NaN  \n",
       "3                                       NaN  \n",
       "4  Star Wars: Episode VI Return of the Jedi  \n",
       "5  Star Wars: Episode VI Return of the Jedi  "
      ]
     },
     "execution_count": 14,
     "metadata": {},
     "output_type": "execute_result"
    }
   ],
   "source": [
    "cleaned_df.head()"
   ]
  },
  {
   "cell_type": "code",
   "execution_count": 15,
   "id": "e17a3b56-910c-4e28-8a5a-eb827ad33feb",
   "metadata": {},
   "outputs": [],
   "source": [
    "# convert columns 3:8 to bool values to simplify our analysis \n",
    "cleaned_df.iloc[:,3:9] = cleaned_df.iloc[:,3:9].notnull().copy()"
   ]
  },
  {
   "cell_type": "code",
   "execution_count": 16,
   "id": "2f9a4e36-4266-4f44-8912-65ad148ff2cf",
   "metadata": {},
   "outputs": [
    {
     "data": {
      "text/html": [
       "<div>\n",
       "<style scoped>\n",
       "    .dataframe tbody tr th:only-of-type {\n",
       "        vertical-align: middle;\n",
       "    }\n",
       "\n",
       "    .dataframe tbody tr th {\n",
       "        vertical-align: top;\n",
       "    }\n",
       "\n",
       "    .dataframe thead th {\n",
       "        text-align: right;\n",
       "    }\n",
       "</style>\n",
       "<table border=\"1\" class=\"dataframe\">\n",
       "  <thead>\n",
       "    <tr style=\"text-align: right;\">\n",
       "      <th></th>\n",
       "      <th>RespondentID</th>\n",
       "      <th>Have you seen any of the 6 films in the Star Wars franchise?</th>\n",
       "      <th>Do you consider yourself to be a fan of the Star Wars film franchise?</th>\n",
       "      <th>Which of the following Star Wars films have you seen? Please select all that apply.</th>\n",
       "      <th>Unnamed: 4</th>\n",
       "      <th>Unnamed: 5</th>\n",
       "      <th>Unnamed: 6</th>\n",
       "      <th>Unnamed: 7</th>\n",
       "      <th>Unnamed: 8</th>\n",
       "    </tr>\n",
       "  </thead>\n",
       "  <tbody>\n",
       "    <tr>\n",
       "      <th>1</th>\n",
       "      <td>3.292880e+09</td>\n",
       "      <td>True</td>\n",
       "      <td>Yes</td>\n",
       "      <td>True</td>\n",
       "      <td>True</td>\n",
       "      <td>True</td>\n",
       "      <td>True</td>\n",
       "      <td>True</td>\n",
       "      <td>True</td>\n",
       "    </tr>\n",
       "    <tr>\n",
       "      <th>2</th>\n",
       "      <td>3.292880e+09</td>\n",
       "      <td>False</td>\n",
       "      <td>NaN</td>\n",
       "      <td>False</td>\n",
       "      <td>False</td>\n",
       "      <td>False</td>\n",
       "      <td>False</td>\n",
       "      <td>False</td>\n",
       "      <td>False</td>\n",
       "    </tr>\n",
       "    <tr>\n",
       "      <th>3</th>\n",
       "      <td>3.292765e+09</td>\n",
       "      <td>True</td>\n",
       "      <td>No</td>\n",
       "      <td>True</td>\n",
       "      <td>True</td>\n",
       "      <td>True</td>\n",
       "      <td>False</td>\n",
       "      <td>False</td>\n",
       "      <td>False</td>\n",
       "    </tr>\n",
       "    <tr>\n",
       "      <th>4</th>\n",
       "      <td>3.292763e+09</td>\n",
       "      <td>True</td>\n",
       "      <td>Yes</td>\n",
       "      <td>True</td>\n",
       "      <td>True</td>\n",
       "      <td>True</td>\n",
       "      <td>True</td>\n",
       "      <td>True</td>\n",
       "      <td>True</td>\n",
       "    </tr>\n",
       "    <tr>\n",
       "      <th>5</th>\n",
       "      <td>3.292731e+09</td>\n",
       "      <td>True</td>\n",
       "      <td>Yes</td>\n",
       "      <td>True</td>\n",
       "      <td>True</td>\n",
       "      <td>True</td>\n",
       "      <td>True</td>\n",
       "      <td>True</td>\n",
       "      <td>True</td>\n",
       "    </tr>\n",
       "  </tbody>\n",
       "</table>\n",
       "</div>"
      ],
      "text/plain": [
       "   RespondentID  Have you seen any of the 6 films in the Star Wars franchise?  \\\n",
       "1  3.292880e+09                                               True              \n",
       "2  3.292880e+09                                              False              \n",
       "3  3.292765e+09                                               True              \n",
       "4  3.292763e+09                                               True              \n",
       "5  3.292731e+09                                               True              \n",
       "\n",
       "  Do you consider yourself to be a fan of the Star Wars film franchise?  \\\n",
       "1                                                Yes                      \n",
       "2                                                NaN                      \n",
       "3                                                 No                      \n",
       "4                                                Yes                      \n",
       "5                                                Yes                      \n",
       "\n",
       "   Which of the following Star Wars films have you seen? Please select all that apply.  \\\n",
       "1                                               True                                     \n",
       "2                                              False                                     \n",
       "3                                               True                                     \n",
       "4                                               True                                     \n",
       "5                                               True                                     \n",
       "\n",
       "   Unnamed: 4  Unnamed: 5  Unnamed: 6  Unnamed: 7  Unnamed: 8  \n",
       "1        True        True        True        True        True  \n",
       "2       False       False       False       False       False  \n",
       "3        True        True       False       False       False  \n",
       "4        True        True        True        True        True  \n",
       "5        True        True        True        True        True  "
      ]
     },
     "execution_count": 16,
     "metadata": {},
     "output_type": "execute_result"
    }
   ],
   "source": [
    "cleaned_df.head()"
   ]
  },
  {
   "cell_type": "markdown",
   "id": "6f85e869-8804-489c-aa14-7ad7ec7dc0c1",
   "metadata": {},
   "source": [
    "`cleaned_df[3:9]` now hold boolean values. We can now change columns names to reflect whether or not respondants have seen that particular Star Wars film. For example a value of `True` under column `Unnamed:4` means they have seen 'Episode II\". We now rename our columns below to clarify. "
   ]
  },
  {
   "cell_type": "code",
   "execution_count": 17,
   "id": "20cb644e-ec84-4ca6-a34b-097585eac92a",
   "metadata": {},
   "outputs": [],
   "source": [
    "# column names now reflect which film they've seen\n",
    "columns = ['id',\"seen_any\",\"fan\",\"episode_1\",\"episode_2\",\"episode_3\",\"episode_4\",\"episode_5\",\"episode_6\"]"
   ]
  },
  {
   "cell_type": "code",
   "execution_count": 18,
   "id": "bc5d217e-72bd-4f98-b118-ff0bef7bcd5b",
   "metadata": {},
   "outputs": [],
   "source": [
    "cleaned_df.columns = columns"
   ]
  },
  {
   "cell_type": "code",
   "execution_count": 19,
   "id": "f1cdf913-1637-4298-9d0b-088b8f34e769",
   "metadata": {},
   "outputs": [
    {
     "data": {
      "text/html": [
       "<div>\n",
       "<style scoped>\n",
       "    .dataframe tbody tr th:only-of-type {\n",
       "        vertical-align: middle;\n",
       "    }\n",
       "\n",
       "    .dataframe tbody tr th {\n",
       "        vertical-align: top;\n",
       "    }\n",
       "\n",
       "    .dataframe thead th {\n",
       "        text-align: right;\n",
       "    }\n",
       "</style>\n",
       "<table border=\"1\" class=\"dataframe\">\n",
       "  <thead>\n",
       "    <tr style=\"text-align: right;\">\n",
       "      <th></th>\n",
       "      <th>id</th>\n",
       "      <th>seen_any</th>\n",
       "      <th>fan</th>\n",
       "      <th>episode_1</th>\n",
       "      <th>episode_2</th>\n",
       "      <th>episode_3</th>\n",
       "      <th>episode_4</th>\n",
       "      <th>episode_5</th>\n",
       "      <th>episode_6</th>\n",
       "    </tr>\n",
       "  </thead>\n",
       "  <tbody>\n",
       "    <tr>\n",
       "      <th>1</th>\n",
       "      <td>3.292880e+09</td>\n",
       "      <td>True</td>\n",
       "      <td>Yes</td>\n",
       "      <td>True</td>\n",
       "      <td>True</td>\n",
       "      <td>True</td>\n",
       "      <td>True</td>\n",
       "      <td>True</td>\n",
       "      <td>True</td>\n",
       "    </tr>\n",
       "    <tr>\n",
       "      <th>2</th>\n",
       "      <td>3.292880e+09</td>\n",
       "      <td>False</td>\n",
       "      <td>NaN</td>\n",
       "      <td>False</td>\n",
       "      <td>False</td>\n",
       "      <td>False</td>\n",
       "      <td>False</td>\n",
       "      <td>False</td>\n",
       "      <td>False</td>\n",
       "    </tr>\n",
       "    <tr>\n",
       "      <th>3</th>\n",
       "      <td>3.292765e+09</td>\n",
       "      <td>True</td>\n",
       "      <td>No</td>\n",
       "      <td>True</td>\n",
       "      <td>True</td>\n",
       "      <td>True</td>\n",
       "      <td>False</td>\n",
       "      <td>False</td>\n",
       "      <td>False</td>\n",
       "    </tr>\n",
       "    <tr>\n",
       "      <th>4</th>\n",
       "      <td>3.292763e+09</td>\n",
       "      <td>True</td>\n",
       "      <td>Yes</td>\n",
       "      <td>True</td>\n",
       "      <td>True</td>\n",
       "      <td>True</td>\n",
       "      <td>True</td>\n",
       "      <td>True</td>\n",
       "      <td>True</td>\n",
       "    </tr>\n",
       "    <tr>\n",
       "      <th>5</th>\n",
       "      <td>3.292731e+09</td>\n",
       "      <td>True</td>\n",
       "      <td>Yes</td>\n",
       "      <td>True</td>\n",
       "      <td>True</td>\n",
       "      <td>True</td>\n",
       "      <td>True</td>\n",
       "      <td>True</td>\n",
       "      <td>True</td>\n",
       "    </tr>\n",
       "  </tbody>\n",
       "</table>\n",
       "</div>"
      ],
      "text/plain": [
       "             id  seen_any  fan  episode_1  episode_2  episode_3  episode_4  \\\n",
       "1  3.292880e+09      True  Yes       True       True       True       True   \n",
       "2  3.292880e+09     False  NaN      False      False      False      False   \n",
       "3  3.292765e+09      True   No       True       True       True      False   \n",
       "4  3.292763e+09      True  Yes       True       True       True       True   \n",
       "5  3.292731e+09      True  Yes       True       True       True       True   \n",
       "\n",
       "   episode_5  episode_6  \n",
       "1       True       True  \n",
       "2      False      False  \n",
       "3      False      False  \n",
       "4       True       True  \n",
       "5       True       True  "
      ]
     },
     "execution_count": 19,
     "metadata": {},
     "output_type": "execute_result"
    }
   ],
   "source": [
    "cleaned_df.head()"
   ]
  },
  {
   "cell_type": "markdown",
   "id": "c640f665-3b4f-4c38-8573-c25fa7660293",
   "metadata": {},
   "source": [
    "With the first half of our data cleaned and ready, we can begin our first analysis."
   ]
  },
  {
   "cell_type": "markdown",
   "id": "85a6ecff-9a32-495f-b1f8-8c950a751ab6",
   "metadata": {},
   "source": [
    "### Which Star Wars Films Were Seen The Most?"
   ]
  },
  {
   "cell_type": "code",
   "execution_count": 20,
   "id": "f2401181-5070-4c83-bce4-7f686dc61e02",
   "metadata": {},
   "outputs": [
    {
     "data": {
      "image/png": "[encoded data removed]",
      "text/plain": [
       "<Figure size 432x288 with 1 Axes>"
      ]
     },
     "metadata": {
      "needs_background": "light"
     },
     "output_type": "display_data"
    }
   ],
   "source": [
    "# we're only interested in True values for any film\n",
    "film_bool = cleaned_df[cleaned_df.iloc[:,3:9] == True].copy()\n",
    "\n",
    "# calculate the total number of True answers for each film\n",
    "film_counts = film_bool.apply(pd.value_counts)\n",
    "\n",
    "# plot our intial graph\n",
    "film_counts.iloc[0,3:9].sort_values().plot(kind='barh')\n",
    "plt.title(\"Return of the Jedi and Empire Strikes Back Were the Most Viewed \")\n",
    "plt.ylabel('Star Wars Film Seen')\n",
    "plt.xlabel('Seen by Number of People')\n",
    "plt.show()\n"
   ]
  },
  {
   "cell_type": "markdown",
   "id": "d3654ca2-f592-40c1-b696-e6cc8251e6cb",
   "metadata": {},
   "source": [
    "### Which Films Were Most Liked and Disliked? \n",
    "Participants were asked to rate the Star Wars franchise films based on a 1 to 6 scale with 1 being the most preferred and 6 being the least. \n",
    "\n",
    "We will summarize the results below."
   ]
  },
  {
   "cell_type": "markdown",
   "id": "34c33e7f-cd75-4b0a-8a81-8e8fb5485372",
   "metadata": {},
   "source": [
    "Using the same strategy we will merge in our columns and rename our headers. We will name our ranking columns `rank_1`, `rank_2` for least and most favorite films. "
   ]
  },
  {
   "cell_type": "code",
   "execution_count": 21,
   "id": "fe3174de-6ba9-4fb8-839f-95905acea630",
   "metadata": {},
   "outputs": [],
   "source": [
    "# merge in new columns\n",
    "cleaned_df = cleaned_df.merge(df.iloc[:,9:15], left_index=True, right_index=True).copy()"
   ]
  },
  {
   "cell_type": "code",
   "execution_count": 22,
   "id": "f57cf3db-1182-48cb-807e-ad523cc4a522",
   "metadata": {},
   "outputs": [],
   "source": [
    "# rename columns \n",
    "columns += ['rank_1','rank_2','rank_3','rank_4','rank_5','rank_6']\n"
   ]
  },
  {
   "cell_type": "code",
   "execution_count": 23,
   "id": "b4c1fa50-3d2f-4da2-8032-1129ea58573d",
   "metadata": {},
   "outputs": [
    {
     "name": "stdout",
     "output_type": "stream",
     "text": [
      "<class 'pandas.core.frame.DataFrame'>\n",
      "RangeIndex: 1186 entries, 1 to 1186\n",
      "Data columns (total 15 columns):\n",
      " #   Column                                                                                                                                         Non-Null Count  Dtype  \n",
      "---  ------                                                                                                                                         --------------  -----  \n",
      " 0   id                                                                                                                                             1186 non-null   float64\n",
      " 1   seen_any                                                                                                                                       1186 non-null   bool   \n",
      " 2   fan                                                                                                                                            836 non-null    object \n",
      " 3   episode_1                                                                                                                                      1186 non-null   bool   \n",
      " 4   episode_2                                                                                                                                      1186 non-null   bool   \n",
      " 5   episode_3                                                                                                                                      1186 non-null   bool   \n",
      " 6   episode_4                                                                                                                                      1186 non-null   bool   \n",
      " 7   episode_5                                                                                                                                      1186 non-null   bool   \n",
      " 8   episode_6                                                                                                                                      1186 non-null   bool   \n",
      " 9   Please rank the Star Wars films in order of preference with 1 being your favorite film in the franchise and 6 being your least favorite film.  835 non-null    object \n",
      " 10  Unnamed: 10                                                                                                                                    836 non-null    object \n",
      " 11  Unnamed: 11                                                                                                                                    835 non-null    object \n",
      " 12  Unnamed: 12                                                                                                                                    836 non-null    object \n",
      " 13  Unnamed: 13                                                                                                                                    836 non-null    object \n",
      " 14  Unnamed: 14                                                                                                                                    836 non-null    object \n",
      "dtypes: bool(7), float64(1), object(7)\n",
      "memory usage: 82.4+ KB\n"
     ]
    }
   ],
   "source": [
    "cleaned_df.info()"
   ]
  },
  {
   "cell_type": "code",
   "execution_count": 570,
   "id": "cb3d660f-e9da-4ead-ae83-a4d7ad6d8efe",
   "metadata": {},
   "outputs": [],
   "source": [
    "cleaned_df.iloc[:,9:15] = cleaned_df.iloc[:,9:15].astype(float)"
   ]
  },
  {
   "cell_type": "code",
   "execution_count": 571,
   "id": "75b37682-ba4e-4c3f-a3d0-4bdf49127f48",
   "metadata": {},
   "outputs": [],
   "source": [
    "# create a new dataset containing the sum total of film rankings scores\n",
    "film_rankings = cleaned_df.iloc[:,9:15].sum()"
   ]
  },
  {
   "cell_type": "code",
   "execution_count": 572,
   "id": "42ed8171-d0c9-4ca9-b3f5-225d5729c560",
   "metadata": {},
   "outputs": [
    {
     "data": {
      "text/plain": [
       "rank_1    3117.0\n",
       "rank_2    3417.0\n",
       "rank_3    3625.0\n",
       "rank_4    2736.0\n",
       "rank_5    2101.0\n",
       "rank_6    2548.0\n",
       "dtype: float64"
      ]
     },
     "execution_count": 572,
     "metadata": {},
     "output_type": "execute_result"
    }
   ],
   "source": [
    "film_rankings"
   ]
  },
  {
   "cell_type": "markdown",
   "id": "d526e211-5391-42d7-bcb1-f75f1935b672",
   "metadata": {},
   "source": [
    "We can now calculate and plot our ranking sums. "
   ]
  },
  {
   "cell_type": "code",
   "execution_count": 574,
   "id": "da8f1f30-0518-43af-a845-a4397acceb6b",
   "metadata": {},
   "outputs": [
    {
     "data": {
      "image/png": "[encoded data removed]",
      "text/plain": [
       "<Figure size 432x288 with 1 Axes>"
      ]
     },
     "metadata": {
      "needs_background": "light"
     },
     "output_type": "display_data"
    }
   ],
   "source": [
    "film_rankings.sort_values(ascending=False).plot(kind='barh')\n",
    "plt.title('The Empire Strikes (and Wins Yet Again')\n",
    "plt.ylabel('Star Wars Film')\n",
    "plt.xlabel('Number of Points(less=more highly preferred)')\n",
    "plt.show()"
   ]
  },
  {
   "cell_type": "markdown",
   "id": "158fc82c-df89-4ec6-aa3e-6036e8bc5c71",
   "metadata": {},
   "source": [
    "Since participants were asked to rate their favorite film on a scale from 1 to 6 (1 being most preferred), we can see that once again **Return of the Jedi and Empire Strikes once again, dominate**. "
   ]
  },
  {
   "cell_type": "code",
   "execution_count": 28,
   "id": "d930ec4b-44d3-44e2-a404-bc5415e43bd4",
   "metadata": {},
   "outputs": [
    {
     "data": {
      "text/html": [
       "<div>\n",
       "<style scoped>\n",
       "    .dataframe tbody tr th:only-of-type {\n",
       "        vertical-align: middle;\n",
       "    }\n",
       "\n",
       "    .dataframe tbody tr th {\n",
       "        vertical-align: top;\n",
       "    }\n",
       "\n",
       "    .dataframe thead th {\n",
       "        text-align: right;\n",
       "    }\n",
       "</style>\n",
       "<table border=\"1\" class=\"dataframe\">\n",
       "  <thead>\n",
       "    <tr style=\"text-align: right;\">\n",
       "      <th></th>\n",
       "      <th>id</th>\n",
       "      <th>seen_any</th>\n",
       "      <th>fan</th>\n",
       "      <th>episode_1</th>\n",
       "      <th>episode_2</th>\n",
       "      <th>episode_3</th>\n",
       "      <th>episode_4</th>\n",
       "      <th>episode_5</th>\n",
       "      <th>episode_6</th>\n",
       "      <th>Please rank the Star Wars films in order of preference with 1 being your favorite film in the franchise and 6 being your least favorite film.</th>\n",
       "      <th>Unnamed: 10</th>\n",
       "      <th>Unnamed: 11</th>\n",
       "      <th>Unnamed: 12</th>\n",
       "      <th>Unnamed: 13</th>\n",
       "      <th>Unnamed: 14</th>\n",
       "    </tr>\n",
       "  </thead>\n",
       "  <tbody>\n",
       "    <tr>\n",
       "      <th>1</th>\n",
       "      <td>3.292880e+09</td>\n",
       "      <td>True</td>\n",
       "      <td>Yes</td>\n",
       "      <td>True</td>\n",
       "      <td>True</td>\n",
       "      <td>True</td>\n",
       "      <td>True</td>\n",
       "      <td>True</td>\n",
       "      <td>True</td>\n",
       "      <td>3.0</td>\n",
       "      <td>2.0</td>\n",
       "      <td>1.0</td>\n",
       "      <td>4.0</td>\n",
       "      <td>5.0</td>\n",
       "      <td>6.0</td>\n",
       "    </tr>\n",
       "    <tr>\n",
       "      <th>2</th>\n",
       "      <td>3.292880e+09</td>\n",
       "      <td>False</td>\n",
       "      <td>NaN</td>\n",
       "      <td>False</td>\n",
       "      <td>False</td>\n",
       "      <td>False</td>\n",
       "      <td>False</td>\n",
       "      <td>False</td>\n",
       "      <td>False</td>\n",
       "      <td>NaN</td>\n",
       "      <td>NaN</td>\n",
       "      <td>NaN</td>\n",
       "      <td>NaN</td>\n",
       "      <td>NaN</td>\n",
       "      <td>NaN</td>\n",
       "    </tr>\n",
       "    <tr>\n",
       "      <th>3</th>\n",
       "      <td>3.292765e+09</td>\n",
       "      <td>True</td>\n",
       "      <td>No</td>\n",
       "      <td>True</td>\n",
       "      <td>True</td>\n",
       "      <td>True</td>\n",
       "      <td>False</td>\n",
       "      <td>False</td>\n",
       "      <td>False</td>\n",
       "      <td>1.0</td>\n",
       "      <td>2.0</td>\n",
       "      <td>3.0</td>\n",
       "      <td>4.0</td>\n",
       "      <td>5.0</td>\n",
       "      <td>6.0</td>\n",
       "    </tr>\n",
       "    <tr>\n",
       "      <th>4</th>\n",
       "      <td>3.292763e+09</td>\n",
       "      <td>True</td>\n",
       "      <td>Yes</td>\n",
       "      <td>True</td>\n",
       "      <td>True</td>\n",
       "      <td>True</td>\n",
       "      <td>True</td>\n",
       "      <td>True</td>\n",
       "      <td>True</td>\n",
       "      <td>5.0</td>\n",
       "      <td>6.0</td>\n",
       "      <td>1.0</td>\n",
       "      <td>2.0</td>\n",
       "      <td>4.0</td>\n",
       "      <td>3.0</td>\n",
       "    </tr>\n",
       "    <tr>\n",
       "      <th>5</th>\n",
       "      <td>3.292731e+09</td>\n",
       "      <td>True</td>\n",
       "      <td>Yes</td>\n",
       "      <td>True</td>\n",
       "      <td>True</td>\n",
       "      <td>True</td>\n",
       "      <td>True</td>\n",
       "      <td>True</td>\n",
       "      <td>True</td>\n",
       "      <td>5.0</td>\n",
       "      <td>4.0</td>\n",
       "      <td>6.0</td>\n",
       "      <td>2.0</td>\n",
       "      <td>1.0</td>\n",
       "      <td>3.0</td>\n",
       "    </tr>\n",
       "  </tbody>\n",
       "</table>\n",
       "</div>"
      ],
      "text/plain": [
       "             id  seen_any  fan  episode_1  episode_2  episode_3  episode_4  \\\n",
       "1  3.292880e+09      True  Yes       True       True       True       True   \n",
       "2  3.292880e+09     False  NaN      False      False      False      False   \n",
       "3  3.292765e+09      True   No       True       True       True      False   \n",
       "4  3.292763e+09      True  Yes       True       True       True       True   \n",
       "5  3.292731e+09      True  Yes       True       True       True       True   \n",
       "\n",
       "   episode_5  episode_6  \\\n",
       "1       True       True   \n",
       "2      False      False   \n",
       "3      False      False   \n",
       "4       True       True   \n",
       "5       True       True   \n",
       "\n",
       "   Please rank the Star Wars films in order of preference with 1 being your favorite film in the franchise and 6 being your least favorite film.  \\\n",
       "1                                                3.0                                                                                               \n",
       "2                                                NaN                                                                                               \n",
       "3                                                1.0                                                                                               \n",
       "4                                                5.0                                                                                               \n",
       "5                                                5.0                                                                                               \n",
       "\n",
       "   Unnamed: 10  Unnamed: 11  Unnamed: 12  Unnamed: 13  Unnamed: 14  \n",
       "1          2.0          1.0          4.0          5.0          6.0  \n",
       "2          NaN          NaN          NaN          NaN          NaN  \n",
       "3          2.0          3.0          4.0          5.0          6.0  \n",
       "4          6.0          1.0          2.0          4.0          3.0  \n",
       "5          4.0          6.0          2.0          1.0          3.0  "
      ]
     },
     "execution_count": 28,
     "metadata": {},
     "output_type": "execute_result"
    }
   ],
   "source": [
    "cleaned_df.head()"
   ]
  },
  {
   "cell_type": "code",
   "execution_count": 29,
   "id": "9808b545-a673-480c-bb67-a3fe34eea56c",
   "metadata": {},
   "outputs": [],
   "source": [
    "# too many columns, reset in case of emergency!\n",
    "cleaned_df.drop(cleaned_df.iloc[:,15:55],inplace=True,axis=1)"
   ]
  },
  {
   "cell_type": "markdown",
   "id": "0f19de41-6cd4-42a6-ba03-a3228392d6ae",
   "metadata": {},
   "source": [
    "### Who Are the Most Loved and Hated Characters?\n",
    "\n",
    "Next we'll examine which characters which characters were most likely to be viewed as 'Very favorably' and 'Very unfavorably'. **Spoiler alert: Han Solo for the win!**"
   ]
  },
  {
   "cell_type": "code",
   "execution_count": 30,
   "id": "fcd12865-6e24-4c0d-9649-f0b8e0e5904d",
   "metadata": {},
   "outputs": [],
   "source": [
    "# merge character ratings columns from our data set\n",
    "cleaned_df = cleaned_df.merge(df.iloc[:,15:29].copy(),left_index=True, right_index=True)"
   ]
  },
  {
   "cell_type": "code",
   "execution_count": 31,
   "id": "7f5835a8-b588-484c-af39-0e584a4796e5",
   "metadata": {},
   "outputs": [
    {
     "data": {
      "text/plain": [
       "['id',\n",
       " 'seen_any',\n",
       " 'fan',\n",
       " 'episode_1',\n",
       " 'episode_2',\n",
       " 'episode_3',\n",
       " 'episode_4',\n",
       " 'episode_5',\n",
       " 'episode_6',\n",
       " 'rank_1',\n",
       " 'rank_2',\n",
       " 'rank_3',\n",
       " 'rank_4',\n",
       " 'rank_5',\n",
       " 'rank_6']"
      ]
     },
     "execution_count": 31,
     "metadata": {},
     "output_type": "execute_result"
    }
   ],
   "source": [
    "columns"
   ]
  },
  {
   "cell_type": "code",
   "execution_count": 32,
   "id": "400217d1-1f51-470b-977c-1fe68d679b4c",
   "metadata": {},
   "outputs": [],
   "source": [
    "# append our column names with descriptive character names\n",
    "columns += ['han_solo','luke_skywalker','princess_leia','anakin_skywalker','obi_wan',\n",
    "            'palpatine','darth_vader','lando','boba','c3','r2','jar_jar','padme','yoda'\n",
    "           ]"
   ]
  },
  {
   "cell_type": "code",
   "execution_count": 33,
   "id": "5d1e7249-7838-48b1-9d8b-0ce5c0bb3872",
   "metadata": {},
   "outputs": [],
   "source": [
    "# update our column names\n",
    "cleaned_df.columns = columns"
   ]
  },
  {
   "cell_type": "code",
   "execution_count": 34,
   "id": "d828fcc5-c36d-46a1-a5b2-2268508a9c36",
   "metadata": {},
   "outputs": [],
   "source": [
    "# we're only concerned with ratings of 'very favorably'\n",
    "favorable_counts = cleaned_df.loc[:,'han_solo':'yoda'].copy().apply(pd.value_counts).loc['Very favorably',:]"
   ]
  },
  {
   "cell_type": "code",
   "execution_count": 35,
   "id": "c500ba34-1f79-4952-9514-d8d08f25b22b",
   "metadata": {},
   "outputs": [
    {
     "data": {
      "text/plain": [
       "han_solo            610\n",
       "yoda                605\n",
       "obi_wan             591\n",
       "r2                  562\n",
       "luke_skywalker      552\n",
       "princess_leia       547\n",
       "c3                  474\n",
       "darth_vader         310\n",
       "anakin_skywalker    245\n",
       "padme               168\n",
       "lando               142\n",
       "boba                138\n",
       "jar_jar             112\n",
       "palpatine           110\n",
       "Name: Very favorably, dtype: int64"
      ]
     },
     "execution_count": 35,
     "metadata": {},
     "output_type": "execute_result"
    }
   ],
   "source": [
    "favorable_counts.sort_values(ascending=False)"
   ]
  },
  {
   "cell_type": "code",
   "execution_count": 36,
   "id": "78db16eb-801b-47ea-9782-c62fe223a4eb",
   "metadata": {},
   "outputs": [
    {
     "data": {
      "image/png": "[encoded data removed]",
      "text/plain": [
       "<Figure size 432x288 with 1 Axes>"
      ]
     },
     "metadata": {
      "needs_background": "light"
     },
     "output_type": "display_data"
    }
   ],
   "source": [
    "# sort from greatest to least and plot\n",
    "favorable_counts.sort_values().plot.barh()\n",
    "plt.xlabel('Number of Very Favorably Votes')\n",
    "plt.title('How favorable is your favorite character?')\n",
    "plt.show()\n"
   ]
  },
  {
   "cell_type": "code",
   "execution_count": 37,
   "id": "ddbad21e-2d97-407f-a230-7736e4171ed3",
   "metadata": {},
   "outputs": [],
   "source": [
    "# we're only concerned with ratings of 'very unfavorably'\n",
    "unfavorable_counts = cleaned_df.loc[:,'han_solo':'yoda'].copy().apply(pd.value_counts).loc['Very unfavorably']"
   ]
  },
  {
   "cell_type": "code",
   "execution_count": 38,
   "id": "d83afd86-0038-4157-a25b-d22b2e908425",
   "metadata": {},
   "outputs": [
    {
     "data": {
      "text/plain": [
       "jar_jar             204\n",
       "darth_vader         149\n",
       "palpatine           124\n",
       "boba                 45\n",
       "anakin_skywalker     39\n",
       "padme                34\n",
       "lando                 8\n",
       "yoda                  8\n",
       "obi_wan               7\n",
       "c3                    7\n",
       "princess_leia         6\n",
       "r2                    6\n",
       "luke_skywalker        3\n",
       "han_solo              1\n",
       "Name: Very unfavorably, dtype: int64"
      ]
     },
     "execution_count": 38,
     "metadata": {},
     "output_type": "execute_result"
    }
   ],
   "source": [
    "unfavorable_counts.sort_values(ascending=False)"
   ]
  },
  {
   "cell_type": "code",
   "execution_count": 39,
   "id": "045962d2-418c-45e4-b60d-126d1c91b5a2",
   "metadata": {},
   "outputs": [
    {
     "data": {
      "image/png": "[encoded data removed]",
      "text/plain": [
       "<Figure size 432x288 with 1 Axes>"
      ]
     },
     "metadata": {
      "needs_background": "light"
     },
     "output_type": "display_data"
    }
   ],
   "source": [
    "# sort from greatest to least and plot\n",
    "unfavorable_counts.sort_values().plot.barh()\n",
    "plt.xlabel('Number of Very unfavorably Votes')\n",
    "plt.title('Which Star Wars character do people just not like?')\n",
    "plt.show()"
   ]
  },
  {
   "cell_type": "markdown",
   "id": "c40d4928-72c8-4eab-ac17-7cc041674d7a",
   "metadata": {},
   "source": [
    "### Episode V Dominates Across Every US Region!"
   ]
  },
  {
   "cell_type": "markdown",
   "id": "bae93c40-2fa5-4a6b-82a4-983e4a9273ce",
   "metadata": {},
   "source": [
    "Participants were asked to rate their favorite film in the franchise with 1 being the most preferred and 6 being the least preferred. We computed the favorite film for every region and Episode V handily beat out every other film in the genre. "
   ]
  },
  {
   "cell_type": "code",
   "execution_count": 40,
   "id": "44c18155-8d41-4ee7-a8aa-c465e41174f9",
   "metadata": {},
   "outputs": [],
   "source": [
    "# bring in our demographic columns(gender,age,income,education and location) (#33-37)\n",
    "cleaned_df = cleaned_df.merge(df.iloc[:,33:38].copy(),left_index=True,right_index=True)\n",
    "\n"
   ]
  },
  {
   "cell_type": "code",
   "execution_count": 75,
   "id": "d7c15bc4-f56f-408c-ad7b-30b03734782e",
   "metadata": {},
   "outputs": [],
   "source": [
    "# rename long single column name\n",
    "cleaned_df.rename(columns={'Location (Census Region)':'Location'},inplace=True)\n",
    "\n",
    "# aggregate by location \n",
    "by_region = cleaned_df.groupby('Location')\n"
   ]
  },
  {
   "cell_type": "code",
   "execution_count": 76,
   "id": "e3f369ca-dc56-456b-a4d4-345491693787",
   "metadata": {},
   "outputs": [],
   "source": [
    "# calculate sum points for each Star Wars film across each region\n",
    "by_region = by_region[['rank_1','rank_2','rank_3','rank_4','rank_5','rank_6']].sum()"
   ]
  },
  {
   "cell_type": "code",
   "execution_count": 77,
   "id": "3e829e28-7ab1-4766-845f-6e50ef9b3c43",
   "metadata": {},
   "outputs": [],
   "source": [
    "by_region = by_region.reset_index()"
   ]
  },
  {
   "cell_type": "code",
   "execution_count": 188,
   "id": "22d5020a-ab66-4fd4-965b-a22d73be912d",
   "metadata": {},
   "outputs": [
    {
     "data": {
      "text/html": [
       "<div>\n",
       "<style scoped>\n",
       "    .dataframe tbody tr th:only-of-type {\n",
       "        vertical-align: middle;\n",
       "    }\n",
       "\n",
       "    .dataframe tbody tr th {\n",
       "        vertical-align: top;\n",
       "    }\n",
       "\n",
       "    .dataframe thead th {\n",
       "        text-align: right;\n",
       "    }\n",
       "</style>\n",
       "<table border=\"1\" class=\"dataframe\">\n",
       "  <thead>\n",
       "    <tr style=\"text-align: right;\">\n",
       "      <th></th>\n",
       "      <th>Location</th>\n",
       "      <th>rank_1</th>\n",
       "      <th>rank_2</th>\n",
       "      <th>rank_3</th>\n",
       "      <th>rank_4</th>\n",
       "      <th>rank_5</th>\n",
       "      <th>rank_6</th>\n",
       "    </tr>\n",
       "  </thead>\n",
       "  <tbody>\n",
       "    <tr>\n",
       "      <th>0</th>\n",
       "      <td>East North Central</td>\n",
       "      <td>499.0</td>\n",
       "      <td>546.0</td>\n",
       "      <td>591.0</td>\n",
       "      <td>450.0</td>\n",
       "      <td>318.0</td>\n",
       "      <td>410.0</td>\n",
       "    </tr>\n",
       "    <tr>\n",
       "      <th>1</th>\n",
       "      <td>East South Central</td>\n",
       "      <td>124.0</td>\n",
       "      <td>147.0</td>\n",
       "      <td>140.0</td>\n",
       "      <td>92.0</td>\n",
       "      <td>72.0</td>\n",
       "      <td>97.0</td>\n",
       "    </tr>\n",
       "    <tr>\n",
       "      <th>2</th>\n",
       "      <td>Middle Atlantic</td>\n",
       "      <td>365.0</td>\n",
       "      <td>392.0</td>\n",
       "      <td>406.0</td>\n",
       "      <td>285.0</td>\n",
       "      <td>227.0</td>\n",
       "      <td>272.0</td>\n",
       "    </tr>\n",
       "    <tr>\n",
       "      <th>3</th>\n",
       "      <td>Mountain</td>\n",
       "      <td>272.0</td>\n",
       "      <td>272.0</td>\n",
       "      <td>291.0</td>\n",
       "      <td>202.0</td>\n",
       "      <td>190.0</td>\n",
       "      <td>201.0</td>\n",
       "    </tr>\n",
       "    <tr>\n",
       "      <th>4</th>\n",
       "      <td>New England</td>\n",
       "      <td>248.0</td>\n",
       "      <td>250.0</td>\n",
       "      <td>248.0</td>\n",
       "      <td>185.0</td>\n",
       "      <td>151.0</td>\n",
       "      <td>172.0</td>\n",
       "    </tr>\n",
       "    <tr>\n",
       "      <th>5</th>\n",
       "      <td>Pacific</td>\n",
       "      <td>523.0</td>\n",
       "      <td>558.0</td>\n",
       "      <td>609.0</td>\n",
       "      <td>470.0</td>\n",
       "      <td>400.0</td>\n",
       "      <td>506.0</td>\n",
       "    </tr>\n",
       "    <tr>\n",
       "      <th>6</th>\n",
       "      <td>South Atlantic</td>\n",
       "      <td>490.0</td>\n",
       "      <td>556.0</td>\n",
       "      <td>591.0</td>\n",
       "      <td>453.0</td>\n",
       "      <td>319.0</td>\n",
       "      <td>384.0</td>\n",
       "    </tr>\n",
       "    <tr>\n",
       "      <th>7</th>\n",
       "      <td>West North Central</td>\n",
       "      <td>279.0</td>\n",
       "      <td>312.0</td>\n",
       "      <td>331.0</td>\n",
       "      <td>256.0</td>\n",
       "      <td>194.0</td>\n",
       "      <td>224.0</td>\n",
       "    </tr>\n",
       "    <tr>\n",
       "      <th>8</th>\n",
       "      <td>West South Central</td>\n",
       "      <td>258.0</td>\n",
       "      <td>313.0</td>\n",
       "      <td>340.0</td>\n",
       "      <td>278.0</td>\n",
       "      <td>184.0</td>\n",
       "      <td>223.0</td>\n",
       "    </tr>\n",
       "  </tbody>\n",
       "</table>\n",
       "</div>"
      ],
      "text/plain": [
       "             Location  rank_1  rank_2  rank_3  rank_4  rank_5  rank_6\n",
       "0  East North Central   499.0   546.0   591.0   450.0   318.0   410.0\n",
       "1  East South Central   124.0   147.0   140.0    92.0    72.0    97.0\n",
       "2     Middle Atlantic   365.0   392.0   406.0   285.0   227.0   272.0\n",
       "3            Mountain   272.0   272.0   291.0   202.0   190.0   201.0\n",
       "4         New England   248.0   250.0   248.0   185.0   151.0   172.0\n",
       "5             Pacific   523.0   558.0   609.0   470.0   400.0   506.0\n",
       "6      South Atlantic   490.0   556.0   591.0   453.0   319.0   384.0\n",
       "7  West North Central   279.0   312.0   331.0   256.0   194.0   224.0\n",
       "8  West South Central   258.0   313.0   340.0   278.0   184.0   223.0"
      ]
     },
     "execution_count": 188,
     "metadata": {},
     "output_type": "execute_result"
    }
   ],
   "source": [
    "by_region"
   ]
  },
  {
   "cell_type": "code",
   "execution_count": 220,
   "id": "46f420b6-580f-4890-83bf-b8d3dd344888",
   "metadata": {},
   "outputs": [
    {
     "data": {
      "text/html": [
       "<div>\n",
       "<style scoped>\n",
       "    .dataframe tbody tr th:only-of-type {\n",
       "        vertical-align: middle;\n",
       "    }\n",
       "\n",
       "    .dataframe tbody tr th {\n",
       "        vertical-align: top;\n",
       "    }\n",
       "\n",
       "    .dataframe thead th {\n",
       "        text-align: right;\n",
       "    }\n",
       "</style>\n",
       "<table border=\"1\" class=\"dataframe\">\n",
       "  <thead>\n",
       "    <tr style=\"text-align: right;\">\n",
       "      <th></th>\n",
       "      <th>top_film</th>\n",
       "      <th>score</th>\n",
       "    </tr>\n",
       "    <tr>\n",
       "      <th>location</th>\n",
       "      <th></th>\n",
       "      <th></th>\n",
       "    </tr>\n",
       "  </thead>\n",
       "  <tbody>\n",
       "    <tr>\n",
       "      <th>East North Central</th>\n",
       "      <td>rank_5</td>\n",
       "      <td>318.0</td>\n",
       "    </tr>\n",
       "    <tr>\n",
       "      <th>East South Central</th>\n",
       "      <td>rank_5</td>\n",
       "      <td>72.0</td>\n",
       "    </tr>\n",
       "    <tr>\n",
       "      <th>Middle Atlantic</th>\n",
       "      <td>rank_5</td>\n",
       "      <td>227.0</td>\n",
       "    </tr>\n",
       "    <tr>\n",
       "      <th>Mountain</th>\n",
       "      <td>rank_5</td>\n",
       "      <td>190.0</td>\n",
       "    </tr>\n",
       "    <tr>\n",
       "      <th>New England</th>\n",
       "      <td>rank_5</td>\n",
       "      <td>151.0</td>\n",
       "    </tr>\n",
       "    <tr>\n",
       "      <th>Pacific</th>\n",
       "      <td>rank_5</td>\n",
       "      <td>400.0</td>\n",
       "    </tr>\n",
       "    <tr>\n",
       "      <th>South Atlantic</th>\n",
       "      <td>rank_5</td>\n",
       "      <td>319.0</td>\n",
       "    </tr>\n",
       "    <tr>\n",
       "      <th>West North Central</th>\n",
       "      <td>rank_5</td>\n",
       "      <td>194.0</td>\n",
       "    </tr>\n",
       "    <tr>\n",
       "      <th>West South Central</th>\n",
       "      <td>rank_5</td>\n",
       "      <td>184.0</td>\n",
       "    </tr>\n",
       "  </tbody>\n",
       "</table>\n",
       "</div>"
      ],
      "text/plain": [
       "                   top_film  score\n",
       "location                          \n",
       "East North Central   rank_5  318.0\n",
       "East South Central   rank_5   72.0\n",
       "Middle Atlantic      rank_5  227.0\n",
       "Mountain             rank_5  190.0\n",
       "New England          rank_5  151.0\n",
       "Pacific              rank_5  400.0\n",
       "South Atlantic       rank_5  319.0\n",
       "West North Central   rank_5  194.0\n",
       "West South Central   rank_5  184.0"
      ]
     },
     "execution_count": 220,
     "metadata": {},
     "output_type": "execute_result"
    }
   ],
   "source": [
    "# create a table that displays top film by region \n",
    "\n",
    "# select all unique column names \n",
    "cols = by_region.columns[1:]\n",
    "# select all unique regions\n",
    "locations = by_region['Location'].unique()\n",
    "\n",
    "# list to hold location, movie, and rank\n",
    "rank_list = []\n",
    "\n",
    "# loop over all locations, find the minimum (=most preferred) score \n",
    "for location in locations:\n",
    "    # find the lowest score for each location\n",
    "    selected_row = by_region[by_region['Location'] == location]\n",
    "    min_score = selected_row.min(numeric_only=True,axis=1).min()\n",
    "    # loop over each column, find which column score_min came from\n",
    "    for col in cols:\n",
    "        # select the actual value from selected row\n",
    "        score = selected_row[col].min()\n",
    "        # if the score is found in the column,retain the column name\n",
    "        if score == min_score:\n",
    "            top_film = col        \n",
    "    # update our list with region, film name, and score \n",
    "    rank_list.append([location,top_film,min_score])\n",
    "    \n",
    "# convert our rank list to a dataframe\n",
    "rank_df = pd.DataFrame(rank_list)\n",
    "# rename our columns for clarity\n",
    "rank_df.columns = ['location','top_film','score']\n",
    "rank_df.set_index('location',inplace=True)\n",
    "\n",
    "# display our table\n",
    "rank_df"
   ]
  },
  {
   "cell_type": "markdown",
   "id": "3700a66c-da25-4e72-b145-ed324bf8ec9b",
   "metadata": {},
   "source": [
    "**Across every US region, The Empire Strikes Back(`rank_5`) is the preferred film.** "
   ]
  },
  {
   "cell_type": "markdown",
   "id": "4580e730-c406-46f0-9d43-acba43527e49",
   "metadata": {},
   "source": [
    "### Are You a Star Wars Fan? High Earners Responded Yes More Frequently \n",
    "Among those earning $150,000 or more a year, **71% said they were a fan compared to 28% who said they were not.** This is the highest yes to no ratio out of all the income groups. "
   ]
  },
  {
   "cell_type": "code",
   "execution_count": 221,
   "id": "67320129-0e32-4e23-90cd-3b3252af1bab",
   "metadata": {
    "tags": []
   },
   "outputs": [],
   "source": [
    "yes_no_income = cleaned_df.groupby('Household Income')['fan'].value_counts(normalize=True)\n"
   ]
  },
  {
   "cell_type": "code",
   "execution_count": 222,
   "id": "5f822a0e-b169-4f99-b5a4-606d3b45a118",
   "metadata": {},
   "outputs": [
    {
     "data": {
      "text/plain": [
       "Household Income     fan\n",
       "$0 - $24,999         Yes    0.622449\n",
       "                     No     0.377551\n",
       "$100,000 - $149,999  Yes    0.686957\n",
       "                     No     0.313043\n",
       "$150,000+            Yes    0.714286\n",
       "                     No     0.285714\n",
       "$25,000 - $49,999    Yes    0.571429\n",
       "                     No     0.428571\n",
       "$50,000 - $99,999    Yes    0.655462\n",
       "                     No     0.344538\n",
       "Name: fan, dtype: float64"
      ]
     },
     "execution_count": 222,
     "metadata": {},
     "output_type": "execute_result"
    }
   ],
   "source": [
    "yes_no_income"
   ]
  },
  {
   "cell_type": "markdown",
   "id": "f2ab1a91-3f4c-483a-8bf5-db7d6629e954",
   "metadata": {},
   "source": [
    "Looking at this visually:"
   ]
  },
  {
   "cell_type": "code",
   "execution_count": null,
   "id": "6a3ff430-c0ea-457b-a10e-79e877756118",
   "metadata": {},
   "outputs": [
    {
     "data": {
      "image/png": "[encoded data removed]",
      "text/plain": [
       "<Figure size 432x288 with 1 Axes>"
      ]
     },
     "metadata": {
      "needs_background": "light"
     },
     "output_type": "display_data"
    }
   ],
   "source": [
    "yes_no_income.plot(y='Household Income',x='fan', kind='barh')\n",
    "plt.title('High Earners Were More Likely to Report As Fans')\n",
    "plt.xlabel('Percent of Respondants')\n",
    "plt.ylabel('Household Income,Fan')\n",
    "plt.show()"
   ]
  },
  {
   "cell_type": "code",
   "execution_count": 340,
   "id": "bb451c4f-9fb2-45e0-84e5-ff9a040551a5",
   "metadata": {},
   "outputs": [],
   "source": [
    "#compute ratios for each income bracket\n",
    "fan_income_ratio = {'0-24k':0,\n",
    "                    '100k-149k':0,\n",
    "                    '150k+':0,\n",
    "                    '25k-49k':0,\n",
    "                    '50k-99k':0,\n",
    "                   }\n",
    "                    \n",
    "i=0\n",
    "for bracket in fan_income_ratio: \n",
    "    ratio = yes_no_income[i] / yes_no_income[i+1]\n",
    "    fan_income_ratio[bracket] = ratio\n",
    "    i += 2\n",
    "    \n",
    "# convert to a panda series for plotting\n",
    "fan_income_ratio = pd.Series(fan_income_ratio)"
   ]
  },
  {
   "cell_type": "code",
   "execution_count": 342,
   "id": "b43df2db-6fac-4b2a-b939-086b3a9d650a",
   "metadata": {},
   "outputs": [
    {
     "data": {
      "text/plain": [
       "0-24k        1.648649\n",
       "100k-149k    2.194444\n",
       "150k+        2.500000\n",
       "25k-49k      1.333333\n",
       "50k-99k      1.902439\n",
       "dtype: float64"
      ]
     },
     "execution_count": 342,
     "metadata": {},
     "output_type": "execute_result"
    }
   ],
   "source": [
    "fan_income_ratio"
   ]
  },
  {
   "cell_type": "code",
   "execution_count": 341,
   "id": "0b4d7363-6104-49d1-89fb-b11e1869ea3b",
   "metadata": {},
   "outputs": [
    {
     "data": {
      "text/plain": [
       "Text(0.5, 1.0, 'Ratio of Fans to Non-Fans by Income Bracket')"
      ]
     },
     "execution_count": 341,
     "metadata": {},
     "output_type": "execute_result"
    },
    {
     "data": {
      "image/png": "[encoded data removed]",
      "text/plain": [
       "<Figure size 432x288 with 1 Axes>"
      ]
     },
     "metadata": {
      "needs_background": "light"
     },
     "output_type": "display_data"
    }
   ],
   "source": [
    "fan_income_ratio.plot(kind='bar')\n",
    "plt.title('Ratio of Fans to Non-Fans by Income Bracket')"
   ]
  },
  {
   "cell_type": "markdown",
   "id": "57860643-94b9-4f20-b88e-cf8b768c56bc",
   "metadata": {},
   "source": [
    "As we see from then graphs above, those earning 100-149k were 2.19 times as likely to say they were fans than non-fans, and **those earning 150k+ were 2.5 times as likely to say they were fans than non-fans.**"
   ]
  },
  {
   "cell_type": "markdown",
   "id": "ffc90de3-d7da-4196-b2d6-07bdf33ad41b",
   "metadata": {},
   "source": [
    "### Were Men or Women More Likely to Consider Themselves Fans? "
   ]
  },
  {
   "cell_type": "code",
   "execution_count": 344,
   "id": "a7ec6846-7d80-44fc-a85c-9bfc2575863f",
   "metadata": {},
   "outputs": [],
   "source": [
    "# remap our fan values to bool\n",
    "cleaned_df['fan'] = df['Do you consider yourself to be a fan of the Star Wars film franchise?'].map({'Yes':True,'No':False})"
   ]
  },
  {
   "cell_type": "code",
   "execution_count": 349,
   "id": "3ad2d40c-7268-4255-a12a-30dc697713fe",
   "metadata": {},
   "outputs": [
    {
     "data": {
      "text/plain": [
       "fan    Gender\n",
       "False  Female    0.569892\n",
       "       Male      0.430108\n",
       "True   Male      0.560074\n",
       "       Female    0.439926\n",
       "Name: Gender, dtype: float64"
      ]
     },
     "execution_count": 349,
     "metadata": {},
     "output_type": "execute_result"
    }
   ],
   "source": [
    "cleaned_df.groupby('fan')['Gender'].value_counts(normalize=True)"
   ]
  },
  {
   "cell_type": "markdown",
   "id": "593c53ae-2a45-4fd9-ae13-8d1e49682ae1",
   "metadata": {},
   "source": [
    "56% of females and 43% of males said they were not fans. 43% of females and 56% of males said they were fans. The exact same numbers in reverse!\n",
    "\n",
    "Men were more likely to classify themselves as fans of Star Wars."
   ]
  },
  {
   "cell_type": "markdown",
   "id": "22e0eee8-cb18-4b2e-89cc-19d25fe1041b",
   "metadata": {},
   "source": [
    "## Which Character Was Most Favored by Fans With Graduate Level Education?\n",
    "\n",
    "Let's dive into our the most favored film amongst fans with graduate level degrees. We saw from earlier that Episode V dominates among fans overall, but will this change as education level increases?\n",
    "\n",
    "Let's find out!"
   ]
  },
  {
   "cell_type": "markdown",
   "id": "d9f7043f-e36e-4236-803f-e799f60a680b",
   "metadata": {},
   "source": [
    "# isolate fans with graduate degrees\n",
    "graduate_fans = cleaned_df[(cleaned_df['Education'] == 'Graduate degree') & (cleaned_df['fan']==True)]"
   ]
  },
  {
   "cell_type": "code",
   "execution_count": 475,
   "id": "a84b8cb5-64c5-4406-92a7-62e7b1796ade",
   "metadata": {},
   "outputs": [],
   "source": [
    "# isolate 'very favorable' rankings, and apply value_counts() to each column\n",
    "very_favorably_counts = graduate_fans[graduate_fans.loc[:,'han_solo':'yoda'] == 'Very favorably'].apply(pd.value_counts)"
   ]
  },
  {
   "cell_type": "code",
   "execution_count": 498,
   "id": "23369ed1-b0ce-47a6-828d-41817ce7b6bd",
   "metadata": {},
   "outputs": [
    {
     "data": {
      "image/png": "[encoded data removed]",
      "text/plain": [
       "<Figure size 432x288 with 1 Axes>"
      ]
     },
     "metadata": {
      "needs_background": "light"
     },
     "output_type": "display_data"
    }
   ],
   "source": [
    "very_favorably_counts.loc[:,'han_solo':'yoda'].plot(kind='barh')\n",
    "plt.show()"
   ]
  },
  {
   "cell_type": "markdown",
   "id": "c332f62a-8d7a-4616-8062-d407c145cb31",
   "metadata": {},
   "source": [
    "As we can see this graph is way too crowded and not very helpful. Let's look at our numbers. "
   ]
  },
  {
   "cell_type": "code",
   "execution_count": 500,
   "id": "0b38b1cb-2b57-4b90-b3e0-fa61d6bcf3f4",
   "metadata": {},
   "outputs": [
    {
     "data": {
      "text/html": [
       "<div>\n",
       "<style scoped>\n",
       "    .dataframe tbody tr th:only-of-type {\n",
       "        vertical-align: middle;\n",
       "    }\n",
       "\n",
       "    .dataframe tbody tr th {\n",
       "        vertical-align: top;\n",
       "    }\n",
       "\n",
       "    .dataframe thead th {\n",
       "        text-align: right;\n",
       "    }\n",
       "</style>\n",
       "<table border=\"1\" class=\"dataframe\">\n",
       "  <thead>\n",
       "    <tr style=\"text-align: right;\">\n",
       "      <th></th>\n",
       "      <th>han_solo</th>\n",
       "      <th>luke_skywalker</th>\n",
       "      <th>princess_leia</th>\n",
       "      <th>anakin_skywalker</th>\n",
       "      <th>obi_wan</th>\n",
       "      <th>palpatine</th>\n",
       "      <th>darth_vader</th>\n",
       "      <th>lando</th>\n",
       "      <th>boba</th>\n",
       "      <th>c3</th>\n",
       "      <th>r2</th>\n",
       "      <th>jar_jar</th>\n",
       "      <th>padme</th>\n",
       "      <th>yoda</th>\n",
       "    </tr>\n",
       "  </thead>\n",
       "  <tbody>\n",
       "    <tr>\n",
       "      <th>Very favorably</th>\n",
       "      <td>131</td>\n",
       "      <td>118</td>\n",
       "      <td>118</td>\n",
       "      <td>50</td>\n",
       "      <td>123</td>\n",
       "      <td>20</td>\n",
       "      <td>66</td>\n",
       "      <td>29</td>\n",
       "      <td>21</td>\n",
       "      <td>100</td>\n",
       "      <td>119</td>\n",
       "      <td>19</td>\n",
       "      <td>37</td>\n",
       "      <td>130</td>\n",
       "    </tr>\n",
       "  </tbody>\n",
       "</table>\n",
       "</div>"
      ],
      "text/plain": [
       "                han_solo  luke_skywalker  princess_leia  anakin_skywalker  \\\n",
       "Very favorably       131             118            118                50   \n",
       "\n",
       "                obi_wan  palpatine  darth_vader  lando  boba   c3   r2  \\\n",
       "Very favorably      123         20           66     29    21  100  119   \n",
       "\n",
       "                jar_jar  padme  yoda  \n",
       "Very favorably       19     37   130  "
      ]
     },
     "execution_count": 500,
     "metadata": {},
     "output_type": "execute_result"
    }
   ],
   "source": [
    "very_favorably_counts.loc[:,'han_solo':'yoda']"
   ]
  },
  {
   "cell_type": "markdown",
   "id": "cefe42a4-11ec-4509-9bd1-6f41507d60b2",
   "metadata": {},
   "source": [
    "We can see that `han_solo` and `yoda` take the win with 131 and 130 votes, respectively. Let's take a  look, visually. "
   ]
  },
  {
   "cell_type": "code",
   "execution_count": 539,
   "id": "164c91a1-c6bd-43ab-8f24-ca4657c9e6fa",
   "metadata": {},
   "outputs": [],
   "source": [
    "favorably_dict = {}\n",
    "# assign all the character column names to 'characters'\n",
    "characters = very_favorably_counts.columns[15:29]\n",
    "#loop over each character and extract the number of 'very favorably' votes\n",
    "for char in characters:\n",
    "    favorably_dict[char] = very_favorably_counts.loc['Very favorably',char]\n",
    "    \n",
    "favorably_votes = pd.Series(favorably_dict).reset_index()"
   ]
  },
  {
   "cell_type": "code",
   "execution_count": 540,
   "id": "0e68f8c0-66fd-4cb1-8870-eedaa43aae80",
   "metadata": {},
   "outputs": [],
   "source": [
    "favorably_votes.columns = ['Character','Very Favorable Votes']"
   ]
  },
  {
   "cell_type": "code",
   "execution_count": 567,
   "id": "cbc2ef2c-c69b-4b43-94c6-774061fa94de",
   "metadata": {},
   "outputs": [],
   "source": [
    "favorably_votes.sort_values('Very Favorable Votes',inplace=True)"
   ]
  },
  {
   "cell_type": "code",
   "execution_count": 568,
   "id": "396abd47-cdca-41db-bcb9-7c191329c9e9",
   "metadata": {},
   "outputs": [
    {
     "name": "stdout",
     "output_type": "stream",
     "text": [
      "Most Favored Characters Among Graduate Degree Holders\n"
     ]
    },
    {
     "data": {
      "text/html": [
       "<div>\n",
       "<style scoped>\n",
       "    .dataframe tbody tr th:only-of-type {\n",
       "        vertical-align: middle;\n",
       "    }\n",
       "\n",
       "    .dataframe tbody tr th {\n",
       "        vertical-align: top;\n",
       "    }\n",
       "\n",
       "    .dataframe thead th {\n",
       "        text-align: right;\n",
       "    }\n",
       "</style>\n",
       "<table border=\"1\" class=\"dataframe\">\n",
       "  <thead>\n",
       "    <tr style=\"text-align: right;\">\n",
       "      <th></th>\n",
       "      <th>Character</th>\n",
       "      <th>Very Favorable Votes</th>\n",
       "    </tr>\n",
       "  </thead>\n",
       "  <tbody>\n",
       "    <tr>\n",
       "      <th>11</th>\n",
       "      <td>jar_jar</td>\n",
       "      <td>19</td>\n",
       "    </tr>\n",
       "    <tr>\n",
       "      <th>5</th>\n",
       "      <td>palpatine</td>\n",
       "      <td>20</td>\n",
       "    </tr>\n",
       "    <tr>\n",
       "      <th>8</th>\n",
       "      <td>boba</td>\n",
       "      <td>21</td>\n",
       "    </tr>\n",
       "    <tr>\n",
       "      <th>7</th>\n",
       "      <td>lando</td>\n",
       "      <td>29</td>\n",
       "    </tr>\n",
       "    <tr>\n",
       "      <th>12</th>\n",
       "      <td>padme</td>\n",
       "      <td>37</td>\n",
       "    </tr>\n",
       "    <tr>\n",
       "      <th>3</th>\n",
       "      <td>anakin_skywalker</td>\n",
       "      <td>50</td>\n",
       "    </tr>\n",
       "    <tr>\n",
       "      <th>6</th>\n",
       "      <td>darth_vader</td>\n",
       "      <td>66</td>\n",
       "    </tr>\n",
       "    <tr>\n",
       "      <th>9</th>\n",
       "      <td>c3</td>\n",
       "      <td>100</td>\n",
       "    </tr>\n",
       "    <tr>\n",
       "      <th>1</th>\n",
       "      <td>luke_skywalker</td>\n",
       "      <td>118</td>\n",
       "    </tr>\n",
       "    <tr>\n",
       "      <th>2</th>\n",
       "      <td>princess_leia</td>\n",
       "      <td>118</td>\n",
       "    </tr>\n",
       "    <tr>\n",
       "      <th>10</th>\n",
       "      <td>r2</td>\n",
       "      <td>119</td>\n",
       "    </tr>\n",
       "    <tr>\n",
       "      <th>4</th>\n",
       "      <td>obi_wan</td>\n",
       "      <td>123</td>\n",
       "    </tr>\n",
       "    <tr>\n",
       "      <th>13</th>\n",
       "      <td>yoda</td>\n",
       "      <td>130</td>\n",
       "    </tr>\n",
       "    <tr>\n",
       "      <th>0</th>\n",
       "      <td>han_solo</td>\n",
       "      <td>131</td>\n",
       "    </tr>\n",
       "  </tbody>\n",
       "</table>\n",
       "</div>"
      ],
      "text/plain": [
       "           Character  Very Favorable Votes\n",
       "11           jar_jar                    19\n",
       "5          palpatine                    20\n",
       "8               boba                    21\n",
       "7              lando                    29\n",
       "12             padme                    37\n",
       "3   anakin_skywalker                    50\n",
       "6        darth_vader                    66\n",
       "9                 c3                   100\n",
       "1     luke_skywalker                   118\n",
       "2      princess_leia                   118\n",
       "10                r2                   119\n",
       "4            obi_wan                   123\n",
       "13              yoda                   130\n",
       "0           han_solo                   131"
      ]
     },
     "execution_count": 568,
     "metadata": {},
     "output_type": "execute_result"
    }
   ],
   "source": [
    "print('Most Favored Characters Among Graduate Degree Holders')\n",
    "favorably_votes"
   ]
  },
  {
   "cell_type": "markdown",
   "id": "55b8f620-6c0b-4c0d-bdd8-bb7172492850",
   "metadata": {},
   "source": [
    "Let's create a more impactful visual to see the difference."
   ]
  },
  {
   "cell_type": "code",
   "execution_count": 564,
   "id": "147ba945-7c14-47de-94df-9e65842c809f",
   "metadata": {},
   "outputs": [
    {
     "data": {
      "image/png": "[encoded data removed]",
      "text/plain": [
       "<Figure size 324x432 with 1 Axes>"
      ]
     },
     "metadata": {},
     "output_type": "display_data"
    }
   ],
   "source": [
    "# mobile friendly plot\n",
    "fig, axes = plt.subplots(figsize=(4.5,6))\n",
    "\n",
    "axes.barh(favorably_votes['Character'],\n",
    "          favorably_votes['Very Favorable Votes'],\n",
    "          height=.35,\n",
    "          color='#af0b1e')\n",
    "\n",
    "for location in ['left', 'right', 'top', 'bottom']:\n",
    "    axes.spines[location].set_visible(False)\n",
    "\n",
    "\n",
    "axes.set_xticks([0,60,120])\n",
    "axes.xaxis.tick_top()\n",
    "\n",
    "axes.tick_params(top=False, left=False)\n",
    "axes.tick_params(axis='x', colors='grey')\n",
    "\n",
    "axes.text(x=-20,y=17,\n",
    "        s='Han Solo and Yoda Dominate the Hearts of Star Wars Fans',\n",
    "        weight='bold',\n",
    "        size=17)\n",
    "axes.text(x=-20,y=16,\n",
    "        s='Graduate Degree Holders Most Favor Han Solo and Yoda',\n",
    "        size=12)\n",
    "plt.show()"
   ]
  },
  {
   "cell_type": "markdown",
   "id": "f70627f4-4bc5-4dcb-841e-e02d47670373",
   "metadata": {},
   "source": [
    "We can see from the chart above that Han Solo, Yoda and Obi Wan are the most favored characters among those posessing graduate degrees or higher. "
   ]
  },
  {
   "cell_type": "markdown",
   "id": "f7bbecba-ad4d-4614-871a-16a64f91d9d2",
   "metadata": {},
   "source": [
    "### Are There Any Correlations to Household Income Amongst Fans?\n",
    "To find out, we can convert our household incomes to a representative quantity: 1-5, and run `DataFrame.corr()` to find if there are any interesting correlations to be found. "
   ]
  },
  {
   "cell_type": "code",
   "execution_count": null,
   "id": "1f72d437-0fd2-4688-9c98-9f9c64f66105",
   "metadata": {},
   "outputs": [],
   "source": [
    "# assign each income value a numeric weight\n",
    "income_map = {\n",
    "    '$150,000+': 5,\n",
    "    '$100,000 - $149,999':4, \n",
    "    '$50,000 - $99,999':3, \n",
    "    '$25,000 - $49,999':2, \n",
    "    '0 - $24,999':1\n",
    "}"
   ]
  },
  {
   "cell_type": "code",
   "execution_count": null,
   "id": "a9021760-c072-47d1-9e3c-8f9dd96dbe54",
   "metadata": {},
   "outputs": [],
   "source": [
    "# select only fans and remap income values\n",
    "cleaned_df['income_level'] = cleaned_df[cleaned_df['fan'] == True]['Household Income'].replace(income_map)"
   ]
  },
  {
   "cell_type": "markdown",
   "id": "c8e64888-28b1-4a54-bf52-97d3640ba2f3",
   "metadata": {},
   "source": [
    "As we can see above, amongst fans, there isn't any correlation between income level and our data. "
   ]
  },
  {
   "cell_type": "markdown",
   "id": "2afb3670-c6c5-42b7-b65f-d4015192e145",
   "metadata": {},
   "source": [
    "### Do Star Wars Fans Share a Love of Star Trek? "
   ]
  },
  {
   "cell_type": "code",
   "execution_count": null,
   "id": "3ed9c836-832e-4f98-abe1-78cb7a7fdb59",
   "metadata": {},
   "outputs": [],
   "source": [
    "# merge in our star trek column\n",
    "fans =  fans.merge(df['Do you consider yourself to be a fan of the Star Trek franchise?'].copy(),left_index=True, right_index=True)\n",
    "\n",
    "# rename for simplicity\n",
    "fans.rename(columns={'Do you consider yourself to be a fan of the Star Trek franchise?':'star_trek_fan'}, inplace=True)"
   ]
  },
  {
   "cell_type": "code",
   "execution_count": null,
   "id": "8e983a5c-a7cc-4cd8-85d9-71043e9345fa",
   "metadata": {},
   "outputs": [],
   "source": [
    "# calculate percentages for yes and no\n",
    "star_trek = fans['star_trek_fan'].value_counts() / fans.shape[0]"
   ]
  },
  {
   "cell_type": "code",
   "execution_count": null,
   "id": "8238a4ce-086e-4822-a63b-0c3ba13d3499",
   "metadata": {},
   "outputs": [],
   "source": [
    "star_trek.sort_values(ascending=False)"
   ]
  },
  {
   "cell_type": "code",
   "execution_count": null,
   "id": "f5b398f4-e137-4a3d-b679-1aa6f6035e84",
   "metadata": {},
   "outputs": [],
   "source": [
    "star_trek.sort_values().plot.barh()\n",
    "plt.title(\"Star Trek Gets Love from Star Wars Fans\")\n",
    "plt.show()"
   ]
  },
  {
   "cell_type": "markdown",
   "id": "63917dc9-3ac8-48be-9edb-12a0c6c173cd",
   "metadata": {},
   "source": [
    "**67% of Star Wars fans are also a fan of Star Trek.**"
   ]
  },
  {
   "cell_type": "markdown",
   "id": "fabc3411-4718-4abc-bd9c-6fc3a6277e7e",
   "metadata": {},
   "source": [
    "#### Conclusion"
   ]
  },
  {
   "cell_type": "markdown",
   "id": "661c8d27-13ac-4252-9783-913a8b7e3b63",
   "metadata": {},
   "source": [
    "Overall, people love the old Star Wars movies and remakes of the old Star Wars movies. \n",
    "\n",
    "Episode V and VI were easily the most watched and most preferred movie out of the entire franchise. Espisode II and III were at the bottom of everyone's list. \n",
    "\n",
    "Men are slightly more likely to report as fans of Star Wars than women, and no matter what part of the country you're in, you'll probably argue that Episode V is the greatest film out of the entire franchise. \n",
    "\n",
    "When it comes to the characters, Han Solo, Yoda, and Obi-Wan dominate the hearts of Star Wars fans with graduate degrees, while Jar Jar and Darth Vader are still at the top of everyone's hate list. \n",
    "\n",
    "An interesting peculiarity was that high earners($100k+) seemed to be at least twice as likely to declare themselves as Star Wars fans vs those who didn't quite bring home as much bacon. Those earning in excess of 150k were slightly over 2.5 times more likely to classify themselves as fans. \n",
    "\n",
    "And last, 67% of Star Wars fans were also fans of Star Trek. Go figure. "
   ]
  },
  {
   "cell_type": "code",
   "execution_count": null,
   "id": "ae3d8ef8-de14-4b9f-9e82-ab5bd4b8f8ba",
   "metadata": {},
   "outputs": [],
   "source": []
  }
 ],
 "metadata": {
  "kernelspec": {
   "display_name": "Python 3 (ipykernel)",
   "language": "python",
   "name": "python3"
  },
  "language_info": {
   "codemirror_mode": {
    "name": "ipython",
    "version": 3
   },
   "file_extension": ".py",
   "mimetype": "text/x-python",
   "name": "python",
   "nbconvert_exporter": "python",
   "pygments_lexer": "ipython3",
   "version": "3.9.7"
  }
 },
 "nbformat": 4,
 "nbformat_minor": 5
}
